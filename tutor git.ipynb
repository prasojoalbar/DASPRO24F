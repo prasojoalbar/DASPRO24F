{
 "cells": [
  {
   "cell_type": "code",
   "execution_count": 2,
   "id": "e0aca6eb-2735-4b0f-8b79-11345a03c737",
   "metadata": {},
   "outputs": [
    {
     "name": "stdout",
     "output_type": "stream",
     "text": [
      "Hello Daspro\n"
     ]
    }
   ],
   "source": [
    "print(\"Hello\", \"Daspro\")"
   ]
  },
  {
   "cell_type": "code",
   "execution_count": null,
   "id": "e47157df-2813-410b-bbb3-5a5f72f00dd0",
   "metadata": {},
   "outputs": [],
   "source": []
  },
  {
   "cell_type": "code",
   "execution_count": null,
   "id": "1b54c6ff-17de-4794-8970-e82f97e0aeb3",
   "metadata": {},
   "outputs": [],
   "source": []
  },
  {
   "cell_type": "code",
   "execution_count": null,
   "id": "81427d9b-aaf4-4244-bee0-5f08f5730a2d",
   "metadata": {},
   "outputs": [],
   "source": []
  }
 ],
 "metadata": {
  "kernelspec": {
   "display_name": "Python 3 (ipykernel)",
   "language": "python",
   "name": "python3"
  },
  "language_info": {
   "codemirror_mode": {
    "name": "ipython",
    "version": 3
   },
   "file_extension": ".py",
   "mimetype": "text/x-python",
   "name": "python",
   "nbconvert_exporter": "python",
   "pygments_lexer": "ipython3",
   "version": "3.12.7"
  }
 },
 "nbformat": 4,
 "nbformat_minor": 5
}
