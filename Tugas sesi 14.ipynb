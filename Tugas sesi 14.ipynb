{
 "cells": [
  {
   "cell_type": "code",
   "execution_count": null,
   "id": "78aeeb78-9904-44aa-9952-25ff76ea6029",
   "metadata": {},
   "outputs": [],
   "source": [
    "#Buatlah program menu untuk menambahkan dan menampilkan data Mahasiswa yang terdiri dari NIM, NAMA, ALAMAT, KELAS dengan aturan sebagai berikut:\n",
    "#NIM harus 11 digit\n",
    "#NAMA minimal 6 digit\n",
    "#ALAMAT minimal 10 digit\n",
    "#KELAS hanya boleh \"TI23\" dan \"TI24\"\n",
    "\n"
   ]
  },
  {
   "cell_type": "code",
   "execution_count": null,
   "id": "22c35da8-8b86-44c4-8276-07d4a24d31bb",
   "metadata": {},
   "outputs": [],
   "source": [
    "datalist = []\n",
    "class MinimalDigit(Exception):\n",
    "    pass"
   ]
  },
  {
   "cell_type": "code",
   "execution_count": null,
   "id": "ebc9371c-40d7-4081-854e-6fe20b724766",
   "metadata": {},
   "outputs": [],
   "source": [
    "def addStudent():\n",
    "    id_student = input(\"Masukan ID Mahasiswa:\")\n",
    "    if len(id_student) != 11:\n",
    "        raise MinimalDigit(\"Harus 11 Digit\")\n",
    "    name_student = input(\"Masukan Nama Mahasiswa:\")\n",
    "    if len(name_student) < 6:\n",
    "        raise MinimalDigit(\"Minimal Harus 6 Huruf\")\n",
    "    address_student = input(\"Masukan Alamat Mahasiswa:\")\n",
    "    if len(address_student) < 10:\n",
    "        raise MinimalDigit(\"Minimal Harus 10 Huruf\")\n",
    "    class_student = input(\"Masukan Kelas (TI23/TI24):\")\n",
    "    if class_student != \"TI23\" and class_student != \"TI24\":\n",
    "        raise MinimalDigit(\"Harus TI23/TI24\")\n",
    "    temp = {\"NIM\": id_student,\"NAMA\": name_student,\"ALAMAT\": address_student,\"KELAS\": class_student}\n",
    "    datalist.append(temp)"
   ]
  },
  {
   "cell_type": "code",
   "execution_count": null,
   "id": "c8705f7a-8655-4d85-8d60-f5150962176a",
   "metadata": {},
   "outputs": [],
   "source": [
    "def readStudent():\n",
    "    print(datalist)"
   ]
  },
  {
   "cell_type": "code",
   "execution_count": null,
   "id": "48a7f062-2e82-4ad6-98c9-7ac3239bdfe2",
   "metadata": {},
   "outputs": [],
   "source": [
    " i = True\n",
    "while i is True:\n",
    "    try:\n",
    "        print(\"---Menu--- \\n\\n1.Tambahkan Mahasiswa \\n2.Tampilkan Seluruh Mahasiswa \\n3.Keluar\")\n",
    "        pilihan = int(input())\n",
    "        \n",
    "        if pilihan == 1:\n",
    "            addStudent()\n",
    "        \n",
    "        elif pilihan == 2:\n",
    "            readStudent()\n",
    "        \n",
    "        elif pilihan == 3:\n",
    "            i = False\n",
    "        else:\n",
    "            print(\"Masukan angka yang ada di menu (1-3)\")\n",
    "    except (MinimalDigit) as err:\n",
    "        print(\"Terjadi Kesalahan:\", err)\n",
    "    except ValueError:\n",
    "        print(\"Harus Angka\")"
   ]
  },
  {
   "cell_type": "code",
   "execution_count": null,
   "id": "7c093325-bc99-4958-9307-731558067b74",
   "metadata": {},
   "outputs": [],
   "source": []
  }
 ],
 "metadata": {
  "kernelspec": {
   "display_name": "Python 3 (ipykernel)",
   "language": "python",
   "name": "python3"
  },
  "language_info": {
   "codemirror_mode": {
    "name": "ipython",
    "version": 3
   },
   "file_extension": ".py",
   "mimetype": "text/x-python",
   "name": "python",
   "nbconvert_exporter": "python",
   "pygments_lexer": "ipython3",
   "version": "3.12.7"
  }
 },
 "nbformat": 4,
 "nbformat_minor": 5
}
