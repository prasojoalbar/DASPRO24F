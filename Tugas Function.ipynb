{
 "cells": [
  {
   "cell_type": "code",
   "execution_count": 34,
   "id": "b980d411-23dd-425a-a219-39f79648ee7c",
   "metadata": {},
   "outputs": [
    {
     "name": "stdout",
     "output_type": "stream",
     "text": [
      "UKA ATNIC UMAK\n"
     ]
    }
   ],
   "source": [
    "def reverse_per_kata(kalimat):\n",
    "    listKata = kalimat.split()\n",
    "    kataDibalik = [kata[::-1] for kata in listKata]\n",
    "    return ' '.join(kataDibalik)\n",
    "input_kalimat = \"AKU CINTA KAMU\"\n",
    "output = reverse_per_kata(input_kalimat)\n",
    "print(output)"
   ]
  },
  {
   "cell_type": "code",
   "execution_count": 40,
   "id": "baa47856-27cc-417a-9797-76cde6c58730",
   "metadata": {},
   "outputs": [
    {
     "name": "stdout",
     "output_type": "stream",
     "text": [
      "PYTHON HARI BELAJAR SEDANG INI\n"
     ]
    }
   ],
   "source": [
    "def urutkan_kalimat(kalimat, urutan):\n",
    "    Listkata = kalimat.split()\n",
    "    hasil = [Listkata[i - 1] for i in urutan]\n",
    "    return ' '.join(hasil)\n",
    "\n",
    "inputKalimat = \"HARI INI SEDANG BELAJAR PYTHON\"\n",
    "inputUrutan = [5, 1, 4, 3, 2]\n",
    "output = urutkan_kalimat(inputKalimat, inputUrutan)\n",
    "print(output) \n"
   ]
  },
  {
   "cell_type": "code",
   "execution_count": 41,
   "id": "c017d13d-98f7-4628-8079-4a77129f448c",
   "metadata": {},
   "outputs": [
    {
     "name": "stdout",
     "output_type": "stream",
     "text": [
      "UKA ATNIC UMAK\n",
      "PYTHON HARI BELAJAR SEDANG INI\n",
      "Ak|_| C1nt4 K4m|_|\n",
      "4ku Cinta Kamu\n"
     ]
    }
   ],
   "source": [
    "\n",
    "def reverse_per_kata(kalimat):\n",
    "    listKata = kalimat.split()\n",
    "    kataDibalik = [kata[::-1] for kata in listKata]\n",
    "    return ' '.join(kataDibalik)\n",
    "\n",
    "def urutkan_kalimat(kalimat, urutan):\n",
    "    listKata = kalimat.split()\n",
    "    hasil = [listKata[i - 1] for i in urutan]\n",
    "    return ' '.join(hasil)\n",
    "def ganti_vokal(kalimat, opsi):\n",
    "    vokal_kecil = {'a': '4', 'i': '1', 'u': '|_|', 'e': '3', 'o': '0'}\n",
    "    vokal_kapital = {'A': '4', 'I': '1', 'U': '|_|', 'E': '3', 'O': '0'}\n",
    "    hasil = ''\n",
    "    for huruf in kalimat:\n",
    "        if opsi == 1 and huruf in vokal_kecil:\n",
    "            hasil += vokal_kecil[huruf]\n",
    "        elif opsi == 2 and huruf in vokal_kapital:\n",
    "            hasil += vokal_kapital[huruf]\n",
    "        else:\n",
    "            hasil += huruf\n",
    "    return hasil\n",
    "\n",
    "print(reverse_per_kata(\"AKU CINTA KAMU\"))\n",
    "print(urutkan_kalimat(\"HARI INI SEDANG BELAJAR PYTHON\", [5, 1, 4, 3, 2]))\n",
    "\n",
    "\n",
    "print(ganti_vokal(\"Aku Cinta Kamu\", 1))\n",
    "print(ganti_vokal(\"Aku Cinta Kamu\", 2))\n",
    "\n",
    "\n"
   ]
  }
 ],
 "metadata": {
  "kernelspec": {
   "display_name": "Python 3 (ipykernel)",
   "language": "python",
   "name": "python3"
  },
  "language_info": {
   "codemirror_mode": {
    "name": "ipython",
    "version": 3
   },
   "file_extension": ".py",
   "mimetype": "text/x-python",
   "name": "python",
   "nbconvert_exporter": "python",
   "pygments_lexer": "ipython3",
   "version": "3.12.7"
  }
 },
 "nbformat": 4,
 "nbformat_minor": 5
}
