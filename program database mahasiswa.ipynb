{
 "cells": [
  {
   "cell_type": "code",
   "execution_count": 82,
   "id": "3cba0f77-68c6-4295-910a-37b0948aebfa",
   "metadata": {},
   "outputs": [],
   "source": [
    "datalist = {}"
   ]
  },
  {
   "cell_type": "code",
   "execution_count": 4,
   "id": "58c43347-2414-4910-9a49-1c6c958163f5",
   "metadata": {},
   "outputs": [],
   "source": [
    "def addStudent():\n",
    "    id_student = int(input(\"Masukan ID Mahasiswa:\"))\n",
    "    name_student = input(\"Masukan Nama Mahasiswa:\")\n",
    "    major_student = input(\"Masukan Prodi Mahasiswa:\")\n",
    "    IPK_student = float(input(\"Masukan IPK Mahasiswa:\"))\n",
    "    temp = []\n",
    "    temp.append(name_student)\n",
    "    temp.append(major_student)\n",
    "    temp.append(IPK_student)\n",
    "    temp = tuple(temp)\n",
    "    datalist[id_student] = temp"
   ]
  },
  {
   "cell_type": "code",
   "execution_count": 3,
   "id": "80e0dba3-51be-4973-a182-f63a448be135",
   "metadata": {},
   "outputs": [],
   "source": [
    "def readStudent():\n",
    "    print(datalist)"
   ]
  },
  {
   "cell_type": "code",
   "execution_count": 68,
   "id": "a09e6c4a-6885-47fd-a74f-c80370784716",
   "metadata": {},
   "outputs": [],
   "source": [
    "def findStudent():\n",
    "    id_student = int(input(\"Masukan ID Mahasiswa yang akan dicari:\"))\n",
    "    if id_student in datalist:\n",
    "        print(datalist[id_student])\n",
    "    else:\n",
    "        print(\"Mahasiswa tidak ditemukan\")"
   ]
  },
  {
   "cell_type": "code",
   "execution_count": 60,
   "id": "282884a5-61d9-481a-91bb-621433ecb409",
   "metadata": {},
   "outputs": [],
   "source": [
    "def updateIPKStudent():\n",
    "    id_student = int(input(\"Masukan ID Mahasiswa yang akan di update IPK:\"))\n",
    "    update_IPK = float(input(\"Masukan IPK yang terbaru:\"))\n",
    "    temp = list(datalist[id_student])\n",
    "    temp[2] = update_IPK\n",
    "    temp = tuple(temp)\n",
    "    datalist[id_student] = temp"
   ]
  },
  {
   "cell_type": "code",
   "execution_count": 44,
   "id": "fdbee04a-5222-4df1-a368-7760e86e2d0c",
   "metadata": {},
   "outputs": [],
   "source": [
    "def delStudent():\n",
    "    id_student = int(input(\"Masukan ID Mahasiswa yang akan dihapus:\"))\n",
    "    del datalist[id_student]"
   ]
  },
  {
   "cell_type": "code",
   "execution_count": 5,
   "id": "e3b5ebe5-9929-41a6-afe0-eb0637c91b8a",
   "metadata": {},
   "outputs": [
    {
     "name": "stdout",
     "output_type": "stream",
     "text": [
      "---Menu--- \n",
      "\n",
      "1.Tambahkan Mahasiswa \n",
      "2.Tampilkan Seluruh Mahasiswa \n",
      "3.Cari Mahasiswa \n",
      "4.Update IPK Mahasiswa \n",
      "5.Hapus Mahasiswa \n",
      "6.Keluar\n"
     ]
    },
    {
     "name": "stdin",
     "output_type": "stream",
     "text": [
      " Albar\n"
     ]
    },
    {
     "ename": "ValueError",
     "evalue": "invalid literal for int() with base 10: 'Albar'",
     "output_type": "error",
     "traceback": [
      "\u001b[1;31m---------------------------------------------------------------------------\u001b[0m",
      "\u001b[1;31mValueError\u001b[0m                                Traceback (most recent call last)",
      "Cell \u001b[1;32mIn[5], line 4\u001b[0m\n\u001b[0;32m      2\u001b[0m \u001b[38;5;28;01mwhile\u001b[39;00m i \u001b[38;5;129;01mis\u001b[39;00m \u001b[38;5;28;01mTrue\u001b[39;00m:\n\u001b[0;32m      3\u001b[0m     \u001b[38;5;28mprint\u001b[39m(\u001b[38;5;124m\"\u001b[39m\u001b[38;5;124m---Menu--- \u001b[39m\u001b[38;5;130;01m\\n\u001b[39;00m\u001b[38;5;130;01m\\n\u001b[39;00m\u001b[38;5;124m1.Tambahkan Mahasiswa \u001b[39m\u001b[38;5;130;01m\\n\u001b[39;00m\u001b[38;5;124m2.Tampilkan Seluruh Mahasiswa \u001b[39m\u001b[38;5;130;01m\\n\u001b[39;00m\u001b[38;5;124m3.Cari Mahasiswa \u001b[39m\u001b[38;5;130;01m\\n\u001b[39;00m\u001b[38;5;124m4.Update IPK Mahasiswa \u001b[39m\u001b[38;5;130;01m\\n\u001b[39;00m\u001b[38;5;124m5.Hapus Mahasiswa \u001b[39m\u001b[38;5;130;01m\\n\u001b[39;00m\u001b[38;5;124m6.Keluar\u001b[39m\u001b[38;5;124m\"\u001b[39m)\n\u001b[1;32m----> 4\u001b[0m     pilihan \u001b[38;5;241m=\u001b[39m \u001b[38;5;28mint\u001b[39m(\u001b[38;5;28minput\u001b[39m())\n\u001b[0;32m      6\u001b[0m     \u001b[38;5;28;01mif\u001b[39;00m pilihan \u001b[38;5;241m==\u001b[39m \u001b[38;5;241m1\u001b[39m:\n\u001b[0;32m      7\u001b[0m         addStudent()\n",
      "\u001b[1;31mValueError\u001b[0m: invalid literal for int() with base 10: 'Albar'"
     ]
    }
   ],
   "source": [
    "i = True\n",
    "while i is True:\n",
    "    print(\"---Menu--- \\n\\n1.Tambahkan Mahasiswa \\n2.Tampilkan Seluruh Mahasiswa \\n3.Cari Mahasiswa \\n4.Update IPK Mahasiswa \\n5.Hapus Mahasiswa \\n6.Keluar\")\n",
    "    pilihan = int(input())\n",
    "    \n",
    "    if pilihan == 1:\n",
    "        addStudent()\n",
    "    \n",
    "    elif pilihan == 2:\n",
    "        readStudent()\n",
    "    \n",
    "    elif pilihan == 3:\n",
    "        findStudent()\n",
    "    \n",
    "    elif pilihan == 4:\n",
    "        updateIPKStudent()\n",
    "    \n",
    "    elif pilihan == 5:\n",
    "        delStudent()\n",
    "    \n",
    "    elif pilihan == 6:\n",
    "        i = False\n",
    "    else:\n",
    "        print(\"Masukan angka yang ada di menu (1-6)\")"
   ]
  },
  {
   "cell_type": "code",
   "execution_count": null,
   "id": "1305d4eb-e959-4e6a-9946-b7418b6dc731",
   "metadata": {},
   "outputs": [],
   "source": []
  },
  {
   "cell_type": "code",
   "execution_count": null,
   "id": "7b37269f-9765-4b49-b717-e34dc4aede5f",
   "metadata": {},
   "outputs": [],
   "source": []
  }
 ],
 "metadata": {
  "kernelspec": {
   "display_name": "Python 3 (ipykernel)",
   "language": "python",
   "name": "python3"
  },
  "language_info": {
   "codemirror_mode": {
    "name": "ipython",
    "version": 3
   },
   "file_extension": ".py",
   "mimetype": "text/x-python",
   "name": "python",
   "nbconvert_exporter": "python",
   "pygments_lexer": "ipython3",
   "version": "3.12.7"
  }
 },
 "nbformat": 4,
 "nbformat_minor": 5
}
