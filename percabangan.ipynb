{
 "cells": [
  {
   "cell_type": "code",
   "execution_count": 3,
   "id": "c6ad6c7e-0ffe-4c93-b481-6d9b9f3c0646",
   "metadata": {},
   "outputs": [
    {
     "name": "stdin",
     "output_type": "stream",
     "text": [
      "isikan Umur tiket 1: 15\n",
      "isikan umur tiket 2: 18\n",
      "isikan umur tiket 3: 65\n"
     ]
    },
    {
     "name": "stdout",
     "output_type": "stream",
     "text": [
      "tiket 1 : 15000\n",
      "tiket 2 : 25000\n",
      "tiket 3 : Gratis\n"
     ]
    }
   ],
   "source": [
    "tiket1=int(input(\"isikan Umur tiket 1:\"))\n",
    "tiket2=int(input(\"isikan umur tiket 2:\"))\n",
    "tiket3=int(input(\"isikan umur tiket 3:\"))\n",
    "\n",
    "totalBiaya = 0\n",
    "if tiket1 < 13:\n",
    "    print(f\"tiket 1 :10000\")\n",
    "    totalBiaya= totalBiaya +10000\n",
    "\n",
    "elif tiket1 <18:\n",
    "    print(\"tiket 1 : 15000\")\n",
    "    totalBiaya= totalBiaya +15000\n",
    "\n",
    "elif tiket1 <60:\n",
    "    print(\"tiket 1 : 25000\")\n",
    "    totalBiaya=totalBiaya +25000\n",
    "\n",
    "else:\n",
    "    print(\"tiket 1 : Gratis\")\n",
    "\n",
    "\n",
    "if tiket2 < 13:\n",
    "    print(f\"tiket 2 :10000\")\n",
    "    totalBiaya= totalBiaya +10000\n",
    "\n",
    "elif tiket2 <18:\n",
    "    print(\"tiket 2 : 15000\")\n",
    "    totalBiaya= totalBiaya +15000\n",
    "\n",
    "elif tiket2 <60:\n",
    "    print(\"tiket 2 : 25000\")\n",
    "    totalBiaya=totalBiaya +25000\n",
    "\n",
    "else:\n",
    "    print(\"tiket 2 : Gratis\")\n",
    "\n",
    "\n",
    "if tiket3 < 13:\n",
    "    print(f\"tiket 3 :10000\")\n",
    "    totalBiaya= totalBiaya +10000\n",
    "\n",
    "elif tiket3 <18:\n",
    "    print(\"tiket 3 : 15000\")\n",
    "    totalBiaya= totalBiaya +15000\n",
    "\n",
    "elif tiket3 <60:\n",
    "    print(\"tiket 3 : 25000\")\n",
    "    totalBiaya=totalBiaya +25000\n",
    "\n",
    "else:\n",
    "    print(\"tiket 3 : Gratis\")\n",
    "\n",
    "\n",
    "    \n",
    "    \n",
    "    \n",
    "\n",
    "\n",
    "\n"
   ]
  },
  {
   "cell_type": "code",
   "execution_count": 10,
   "id": "d2f35e70-2bed-42a0-8b95-92469a856ca6",
   "metadata": {},
   "outputs": [
    {
     "name": "stdin",
     "output_type": "stream",
     "text": [
      "isikan nilai rapot: 95\n",
      "isikan penghasilan orang tua: 5000\n"
     ]
    },
    {
     "name": "stdout",
     "output_type": "stream",
     "text": [
      "mendapatkan beasiswa penuh\n"
     ]
    }
   ],
   "source": [
    "nilairapot=int(input(\"isikan nilai rapot:\"))\n",
    "penghasilan=int(input(\"isikan penghasilan orang tua:\"))\n",
    "\n",
    "if nilairapot >= 90 and penghasilan < 5_000_000:\n",
    "    print(\"mendapatkan beasiswa penuh\")\n",
    "elif nilairapot >= 85 and penghasilan < 8_000_000:\n",
    "    print(\"mendapatkan beasiswa 50%:\")\n"
   ]
  },
  {
   "cell_type": "code",
   "execution_count": 15,
   "id": "f2b7e935-790b-442d-9ed0-7fe69d36b062",
   "metadata": {},
   "outputs": [
    {
     "name": "stdin",
     "output_type": "stream",
     "text": [
      "isikan motor/mobil: motor\n",
      "Jam masuk: 5\n",
      "Jam Keluat: 23\n"
     ]
    },
    {
     "name": "stdout",
     "output_type": "stream",
     "text": [
      "tarif motor :0\n",
      "lamaParkir : 18 jam\n",
      "Tambahan Biaya lebih 5 jam: 10000\n",
      "total Tarif Parkir:46000\n"
     ]
    }
   ],
   "source": [
    "jenisKendaraan = input(\"isikan motor/mobil:\")\n",
    "jamMasuk = int(input(\"Jam masuk:\"))\n",
    "jamKeluar= int(input(\"Jam Keluat:\"))\n",
    "\n",
    "tarifPerJam =0\n",
    "if jenisKendaraan ==\"motor\":\n",
    "    tarifPerjam=2000\n",
    "elif jenisKendaraan ==\"mobil\":\n",
    "    tarifPerJam=5000\n",
    "else:\n",
    "    print(\"Tidak menerima selain motor atau mobil\")\n",
    "\n",
    "if jamMasuk >= jamKeluar:\n",
    "    print(\"input jam masuk/keluar Salah\")\n",
    "\n",
    "else:\n",
    "    totalTarif =(jamKeluar-jamMasuk)* tarifPerjam\n",
    "\n",
    "print(f\"tarif {jenisKendaraan} :{tarifPerJam}\")\n",
    "print(f\"lamaParkir : {jamKeluar - jamMasuk} jam\")\n",
    "\n",
    "if jamKeluar - jamMasuk >5:\n",
    "    totalTarif +=10000\n",
    "print(\"Tambahan Biaya lebih 5 jam: 10000\")\n",
    "print(f\"total Tarif Parkir:{totalTarif}\")\n"
   ]
  }
 ],
 "metadata": {
  "kernelspec": {
   "display_name": "Python 3 (ipykernel)",
   "language": "python",
   "name": "python3"
  },
  "language_info": {
   "codemirror_mode": {
    "name": "ipython",
    "version": 3
   },
   "file_extension": ".py",
   "mimetype": "text/x-python",
   "name": "python",
   "nbconvert_exporter": "python",
   "pygments_lexer": "ipython3",
   "version": "3.12.7"
  }
 },
 "nbformat": 4,
 "nbformat_minor": 5
}
