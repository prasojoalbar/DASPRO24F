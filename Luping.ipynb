{
 "cells": [
  {
   "cell_type": "code",
   "execution_count": 132,
   "id": "0589e6da-7cc7-46d9-ada7-9cf0639c2696",
   "metadata": {},
   "outputs": [
    {
     "name": "stdout",
     "output_type": "stream",
     "text": [
      "Nama Buah: Apple\n",
      "Nama Buah: Banana\n",
      "Nama Buah: Watermelon\n",
      "Nama Buah: Pineapple\n"
     ]
    }
   ],
   "source": [
    "# for variable collection\n",
    "\n",
    "fruits =[\"Apple\", \"Banana\" , \"Watermelon\" , \"Pineapple\"]\n",
    "for fruit in fruits:\n",
    "    print(f\"Nama Buah: {fruit}\")"
   ]
  },
  {
   "cell_type": "code",
   "execution_count": 133,
   "id": "d031f38e-a21a-479c-b88b-ad27c272a725",
   "metadata": {},
   "outputs": [
    {
     "ename": "SyntaxError",
     "evalue": "unterminated f-string literal (detected at line 11) (2986453181.py, line 11)",
     "output_type": "error",
     "traceback": [
      "\u001b[1;36m  Cell \u001b[1;32mIn[133], line 11\u001b[1;36m\u001b[0m\n\u001b[1;33m    print(f\"Nilai rata2: {ratarata})\u001b[0m\n\u001b[1;37m          ^\u001b[0m\n\u001b[1;31mSyntaxError\u001b[0m\u001b[1;31m:\u001b[0m unterminated f-string literal (detected at line 11)\n"
     ]
    }
   ],
   "source": [
    "#CONTOH PENGGUNAAN\n",
    "#kelas ti24f punya data nilai pemrograman python 80,100,90,70,70,50,40\n",
    "#carilah nilai rata2 nilai pemrograman python dikelas ti24f\n",
    "\n",
    "nilaiPython=[80,100,90,70,70,50,40]\n",
    "total = 0\n",
    "for nilai in nilaiPython:\n",
    "    total+= nilai\n",
    "\n",
    "rata2=total / len(nilaiPython)\n",
    "print(f\"Nilai rata2: {ratarata})\n"
   ]
  },
  {
   "cell_type": "code",
   "execution_count": 134,
   "id": "8936fa0e-0f2a-43f8-90a7-ef519d89d295",
   "metadata": {},
   "outputs": [
    {
     "name": "stdout",
     "output_type": "stream",
     "text": [
      "0 :Jan\n",
      "1 :Feb\n",
      "2 :Apr\n",
      "3 :May\n",
      "4 :Jun\n",
      "5 :Jul\n",
      "6 :Aug\n",
      "7 :Sep\n"
     ]
    }
   ],
   "source": [
    "#enumerate\n",
    "month=[\"Jan\",\"Feb\",\"Apr\",\"May\",\"Jun\",\"Jul\",\"Aug\",\"Sep\"]\n",
    "for i,m in enumerate(month):\n",
    "    print(f\"{i} :{m}\")"
   ]
  },
  {
   "cell_type": "code",
   "execution_count": null,
   "id": "5acd0614-0024-47f2-a529-6d7261cfbfda",
   "metadata": {},
   "outputs": [],
   "source": [
    "kampus=input(\"Iskan Nama Kampud:\")\n",
    "total=0\n",
    "\n",
    "for karakter in kamus:\n",
    "    if karakter in listVokal\n",
    "    total += 1\n",
    "    print(karakter)\n",
    "    else:\n",
    "    isVokal=\"Bukan huruf Vokal\"\n",
    "print(f\"{karakter}adalah {isVokal}|Total:{total}\")\n",
    "print(f\"Jumlah Total huruf Vokal :{total}\")\n",
    "\n",
    "    "
   ]
  },
  {
   "cell_type": "code",
   "execution_count": null,
   "id": "1d71d11c-b297-4a26-89ee-db3cbb816bd9",
   "metadata": {},
   "outputs": [],
   "source": [
    "##looping comprehension\n",
    "\n",
    "data= [1,2,3,4,5]\n",
    "pangkat= [x**2 for x in data]\n",
    "print(pangkat)"
   ]
  },
  {
   "cell_type": "code",
   "execution_count": null,
   "id": "88f58d68-4434-490d-b2c4-2371df5eac93",
   "metadata": {},
   "outputs": [],
   "source": [
    "##RANGE\n",
    "for i in range(10):\n",
    "    print(f\"Nilai i adalah:{i}\")"
   ]
  },
  {
   "cell_type": "code",
   "execution_count": null,
   "id": "0da78e43-6370-416a-8abc-ee15adb6e30c",
   "metadata": {},
   "outputs": [],
   "source": [
    "for j in range(5,10):\n",
    "    print(f\"Nilai j: {j}\")\n",
    "    "
   ]
  },
  {
   "cell_type": "code",
   "execution_count": null,
   "id": "e575e477-9b87-4252-857a-a8d4167a6355",
   "metadata": {},
   "outputs": [],
   "source": [
    "###### cek bilangan prima atau bukan\n",
    "\n",
    "number= int(input(\"Isikan Bilangan:\"))\n",
    "faktor=0\n",
    "for i in range (1,number+1):\n",
    "    if number % i ==0:\n",
    "        faktor +=1\n",
    "\n",
    "if faktor==2:\n",
    "    print(f\"{number} adalah bilangan prima\")\n",
    "    \n",
    "else:\n",
    "    print(f\"{number} adalah bukan bilangan prima\")"
   ]
  },
  {
   "cell_type": "code",
   "execution_count": null,
   "id": "6c47cec5-f55d-4a3e-8ccd-a0db9cb1a7cb",
   "metadata": {},
   "outputs": [],
   "source": [
    "#faktorial\n",
    "#31=3*2*1\n",
    "number= int(input(\"Isikan Bilangan :\"))\n",
    "total = 1\n",
    "for i in range (1,number+1):\n",
    "    total *= i\n",
    "\n",
    "print(f\"{number}! = {total}\")"
   ]
  },
  {
   "cell_type": "code",
   "execution_count": null,
   "id": "8053e4c5-0eba-42b7-9a53-bfa798c956c2",
   "metadata": {},
   "outputs": [],
   "source": [
    "## 1 -2 3 -4 5 -6 -7 8 9 -10\n",
    "number = int(input(\"Isikan Bilangan:\"))\n",
    "Sign= 1\n",
    "for i in range (1,number+1):\n",
    "    result= Sign* i\n",
    "    print(f\"{result} \",end='')\n",
    "    Sign *= -1"
   ]
  },
  {
   "cell_type": "code",
   "execution_count": 142,
   "id": "aa6015a4-0680-4dd5-9e86-963b591fb48c",
   "metadata": {},
   "outputs": [
    {
     "name": "stdout",
     "output_type": "stream",
     "text": [
      "Jumlah Penonton Laki laki 4\n",
      "Jumlah Penonton Perempuan :3\n"
     ]
    }
   ],
   "source": [
    "kursiBioskop = [\"L\",\"P\",\"P\",\"L\",\"L\",\"P\",\"L\"]\n",
    "\n",
    "#HITUNG JUMLAH KURSI LAKI,HITUNG JUMLAH KURSI PEREMPUNAN\n",
    "\n",
    "totalLaki=0\n",
    "for jenis in kursiBioskop:\n",
    "    if jenis==\"L\":\n",
    "        totalLaki +=1\n",
    "print(f\"Jumlah Penonton Laki laki {totalLaki}\") \n",
    "print(f\"Jumlah Penonton Perempuan :{len(kursiBioskop)-totalLaki}\")"
   ]
  },
  {
   "cell_type": "code",
   "execution_count": 70,
   "id": "03450711-f7ed-47b9-8d3e-51bfbbdcaa33",
   "metadata": {},
   "outputs": [
    {
     "name": "stdout",
     "output_type": "stream",
     "text": [
      "Jumlah Couple: 4\n"
     ]
    }
   ],
   "source": [
    "kursi= [\"L\",\"P\",\"P\",\"L\",\"L\",\"P\",\"L\"]\n",
    "couple=0\n",
    "for i in range(len(kursi)-1):\n",
    "    if kursi[i] != kursi[i+1]:\n",
    "        \n",
    "        couple +=1\n",
    "print(f\"Jumlah Couple: {couple}\")"
   ]
  },
  {
   "cell_type": "code",
   "execution_count": 39,
   "id": "f6c6408c-fa5d-4161-9c43-39805f50717e",
   "metadata": {},
   "outputs": [
    {
     "name": "stdout",
     "output_type": "stream",
     "text": [
      "fname : Albar\n",
      "lname : Alges\n"
     ]
    }
   ],
   "source": [
    "data={\n",
    "    \"fname\":\"Albar\",\n",
    "    \"lname\":\"Alges\"\n",
    "}\n",
    "for key,value in data.items():\n",
    "    print(f\"{key} : {value}\")"
   ]
  },
  {
   "cell_type": "code",
   "execution_count": null,
   "id": "5a82f4f9-cb77-4e7a-8b77-911337fa10a7",
   "metadata": {},
   "outputs": [],
   "source": [
    "tahu =[10,10,10,10,10,10]\n",
    "#harga 1 tahu =2000\n",
    "#jika ada orang beli tahu 15\n",
    "\n"
   ]
  },
  {
   "cell_type": "code",
   "execution_count": null,
   "id": "5fd8ceca-4105-4d02-a5e1-6f4631c776f8",
   "metadata": {},
   "outputs": [],
   "source": []
  }
 ],
 "metadata": {
  "kernelspec": {
   "display_name": "Python 3 (ipykernel)",
   "language": "python",
   "name": "python3"
  },
  "language_info": {
   "codemirror_mode": {
    "name": "ipython",
    "version": 3
   },
   "file_extension": ".py",
   "mimetype": "text/x-python",
   "name": "python",
   "nbconvert_exporter": "python",
   "pygments_lexer": "ipython3",
   "version": "3.12.7"
  }
 },
 "nbformat": 4,
 "nbformat_minor": 5
}
