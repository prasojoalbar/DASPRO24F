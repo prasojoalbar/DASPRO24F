{
 "cells": [
  {
   "cell_type": "code",
   "execution_count": null,
   "id": "d3f1d8b0-40f5-46d6-9265-93e05439d4bc",
   "metadata": {},
   "outputs": [],
   "source": [
    "\n",
    "\n",
    "nama= input(\"masukan inputnya:\")\n",
    "\n",
    "print(nama.replace(\"U\",\"\"))\n",
    "print(nama.replace(\"putra nusa\"))\n",
    "print(nama.replace(\"SUKABUMU PUTRA NUSA\"))"
   ]
  },
  {
   "cell_type": "code",
   "execution_count": 12,
   "id": "96c37be5-93be-4e83-b1b2-89f099c56fbf",
   "metadata": {},
   "outputs": [
    {
     "name": "stdin",
     "output_type": "stream",
     "text": [
      "masukan inputnya: UNIVERSITAS NUSA PUTRA\n"
     ]
    },
    {
     "ename": "TypeError",
     "evalue": "replace expected at least 2 arguments, got 1",
     "output_type": "error",
     "traceback": [
      "\u001b[1;31m---------------------------------------------------------------------------\u001b[0m",
      "\u001b[1;31mTypeError\u001b[0m                                 Traceback (most recent call last)",
      "Cell \u001b[1;32mIn[12], line 3\u001b[0m\n\u001b[0;32m      1\u001b[0m nama\u001b[38;5;241m=\u001b[39m \u001b[38;5;28minput\u001b[39m(\u001b[38;5;124m\"\u001b[39m\u001b[38;5;124mmasukan inputnya:\u001b[39m\u001b[38;5;124m\"\u001b[39m)\n\u001b[1;32m----> 3\u001b[0m \u001b[38;5;28mprint\u001b[39m(nama\u001b[38;5;241m.\u001b[39mreplace(\u001b[38;5;124m\"\u001b[39m\u001b[38;5;124mputra nusa\u001b[39m\u001b[38;5;124m\"\u001b[39m))\n",
      "\u001b[1;31mTypeError\u001b[0m: replace expected at least 2 arguments, got 1"
     ]
    }
   ],
   "source": []
  },
  {
   "cell_type": "code",
   "execution_count": null,
   "id": "50cdcf96-98b9-4709-8b59-ad14f1ee907f",
   "metadata": {},
   "outputs": [],
   "source": []
  },
  {
   "cell_type": "code",
   "execution_count": null,
   "id": "cc757180-082a-4a54-b410-ff20cf0c52b2",
   "metadata": {},
   "outputs": [],
   "source": []
  }
 ],
 "metadata": {
  "kernelspec": {
   "display_name": "Python 3 (ipykernel)",
   "language": "python",
   "name": "python3"
  },
  "language_info": {
   "codemirror_mode": {
    "name": "ipython",
    "version": 3
   },
   "file_extension": ".py",
   "mimetype": "text/x-python",
   "name": "python",
   "nbconvert_exporter": "python",
   "pygments_lexer": "ipython3",
   "version": "3.12.7"
  }
 },
 "nbformat": 4,
 "nbformat_minor": 5
}
