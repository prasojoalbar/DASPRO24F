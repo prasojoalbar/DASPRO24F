{
 "cells": [
  {
   "cell_type": "code",
   "execution_count": 2,
   "id": "de61e4f2-1dc7-4ab3-86fc-9b1d4d2f24c0",
   "metadata": {},
   "outputs": [
    {
     "name": "stdin",
     "output_type": "stream",
     "text": [
      "Masukan Nama Anda:  Albar Mughni Prasojo\n",
      "Maukan Kelas Anda:  TI24f\n",
      "Masukan Fakultas Anda:  Teknik Informatika\n",
      "Masukan NIM Anda:  20240040229\n",
      "Masukan Semester Anda:  2\n"
     ]
    },
    {
     "name": "stdout",
     "output_type": "stream",
     "text": [
      "\n",
      "Biodata\n",
      " Nama     : Albar Mughni Prasojo\n",
      " Kelas    : TI24f\n",
      " Fakultas : Teknik Informatika\n",
      " NIM      : 20240040229\n",
      " Semester : 2\n"
     ]
    }
   ],
   "source": [
    "#BIODATA \n",
    "\n",
    "Nama = input(\"Masukan Nama Anda: \")\n",
    "Kelas = input(\"Maukan Kelas Anda: \")\n",
    "Fakultas = input(\"Masukan Fakultas Anda: \")\n",
    "NIM = int(input(\"Masukan NIM Anda: \"))\n",
    "Semester = int(input(\"Masukan Semester Anda: \"))\n",
    "\n",
    "print(f\"\\nBiodata\\n Nama     : {Nama}\\n Kelas    : {Kelas}\\n Fakultas : {Fakultas}\\n NIM      : {NIM}\\n Semester : {Semester}\")"
   ]
  },
  {
   "cell_type": "code",
   "execution_count": 3,
   "id": "a1ca17f2-16d3-44af-a2cd-d3591882f388",
   "metadata": {},
   "outputs": [
    {
     "name": "stdout",
     "output_type": "stream",
     "text": [
      "a. putra nusa\n",
      "b.  NIVERSITAS N SA P TRA S KAB MI\n",
      "c. SUKABUMI NUSA PUTRA UNIVERSITAS\n",
      "d. U N P S\n",
      "e. TAS  BUMI\n"
     ]
    }
   ],
   "source": [
    "#KODE PROGRAM INPUT OUTPUT STRING\n",
    "\n",
    "kalimat = \"UNIVERSITAS NUSA PUTRA SUKABUMI\"\n",
    "if kalimat == \"UNIVERSITAS NUSA PUTRA SUKABUMI\":\n",
    "    splitAndLower = kalimat.split(\" \")\n",
    "    splitAndLower = splitAndLower[1:3]\n",
    "    splitAndLower[0],splitAndLower[1], = splitAndLower[1],splitAndLower[0]\n",
    "    splitAndLower = \" \".join(splitAndLower)\n",
    "    splitAndLower = splitAndLower.lower()\n",
    "\n",
    "    replaceU = kalimat.replace(\"U\", \" \")\n",
    "\n",
    "    threeToOne = kalimat.split(\" \")\n",
    "    threeToOne[0],threeToOne[3] = threeToOne[3],threeToOne[0]\n",
    "    threeToOne = \" \".join(threeToOne)\n",
    "\n",
    "    firstLetter = kalimat.split(\" \")\n",
    "    firstLetter = firstLetter[0][0], firstLetter[1][0], firstLetter[2][0], firstLetter[3][0]\n",
    "    firstLetter = \" \".join(firstLetter)\n",
    "\n",
    "    splice = kalimat[8:11], kalimat[14:9], kalimat[27:31]\n",
    "    splice = splice[0], splice[1].replace(\" \", \" \"), splice[2]\n",
    "    splice = \" \".join(splice)\n",
    "\n",
    "    print(\"a.\",splitAndLower)\n",
    "    print(\"b.\",replaceU)\n",
    "    print(\"c.\",threeToOne)\n",
    "    print(\"d.\",firstLetter)\n",
    "    print(\"e.\",splice)"
   ]
  },
  {
   "cell_type": "code",
   "execution_count": null,
   "id": "5674b80e-d908-4611-914c-83a51a64d689",
   "metadata": {},
   "outputs": [],
   "source": []
  },
  {
   "cell_type": "code",
   "execution_count": null,
   "id": "d2f6c7d5-51d1-4797-8cf8-9b5a21f62a01",
   "metadata": {},
   "outputs": [],
   "source": []
  }
 ],
 "metadata": {
  "kernelspec": {
   "display_name": "Python 3 (ipykernel)",
   "language": "python",
   "name": "python3"
  },
  "language_info": {
   "codemirror_mode": {
    "name": "ipython",
    "version": 3
   },
   "file_extension": ".py",
   "mimetype": "text/x-python",
   "name": "python",
   "nbconvert_exporter": "python",
   "pygments_lexer": "ipython3",
   "version": "3.12.7"
  }
 },
 "nbformat": 4,
 "nbformat_minor": 5
}
