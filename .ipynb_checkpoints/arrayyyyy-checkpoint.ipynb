{
 "cells": [
  {
   "cell_type": "code",
   "execution_count": null,
   "id": "8018411a-643c-48bc-9531-44bc1aa88c47",
   "metadata": {},
   "outputs": [],
   "source": [
    "import numpy as np"
   ]
  },
  {
   "cell_type": "code",
   "execution_count": null,
   "id": "05eac4fd-e968-4b04-822d-d7ee84ff5d02",
   "metadata": {},
   "outputs": [],
   "source": [
    "#matrix 1dimensi\n",
    "mat1D = np.array([1,2,3,4,5,6,7,8,9,10])\n",
    "mat2D = np.array([[1,2,3],[4,5,6],[7,8,9]])\n",
    "\n",
    "print(mat1D)\n"
   ]
  },
  {
   "cell_type": "code",
   "execution_count": null,
   "id": "2606bd40-cec5-4219-8802-2ace1b0ac4b3",
   "metadata": {},
   "outputs": [],
   "source": [
    "print(mat1D[0])"
   ]
  },
  {
   "cell_type": "code",
   "execution_count": null,
   "id": "a661ef7d-e3c0-481e-a256-3a69fd4c5171",
   "metadata": {},
   "outputs": [],
   "source": [
    "print(mat1D +5)"
   ]
  },
  {
   "cell_type": "code",
   "execution_count": null,
   "id": "6102f0f1-21bf-4295-a764-4db22c46ac63",
   "metadata": {},
   "outputs": [],
   "source": [
    "print(mat2D[0])\n",
    "print(mat2D[1])\n",
    "print(mat2D[2])"
   ]
  },
  {
   "cell_type": "code",
   "execution_count": null,
   "id": "b10773cb-82e8-4230-9fbc-5be727dea0e4",
   "metadata": {},
   "outputs": [],
   "source": [
    "print(mat1D.shape)\n",
    "print(mat2D.shape)\n"
   ]
  },
  {
   "cell_type": "code",
   "execution_count": null,
   "id": "b285b092-af60-46dd-9fa9-ee8b17e88e2c",
   "metadata": {},
   "outputs": [],
   "source": [
    "print(mat1D.size)\n",
    "print(mat2D.size)"
   ]
  },
  {
   "cell_type": "code",
   "execution_count": 133,
   "id": "3d50d3d6-f9f1-46d9-863c-ee1713de4f04",
   "metadata": {},
   "outputs": [],
   "source": [
    "#special matrix\n",
    "\n",
    "mZero =np.zeros((3,3))\n",
    "mIdentity = np.eye((4))\n",
    "mFull = np.full((4,4),7)\n",
    "mOne = np.ones((5,4))\n",
    "mRandomFloat= np.random.rand(5,5)\n",
    "mRandomInt = np.random.randint(10,101,size=6)\n"
   ]
  },
  {
   "cell_type": "code",
   "execution_count": null,
   "id": "83de18bb-f37e-474b-bec9-5dbf4ea40b9a",
   "metadata": {},
   "outputs": [],
   "source": [
    "print(mZero)"
   ]
  },
  {
   "cell_type": "code",
   "execution_count": null,
   "id": "6b7ca12e-8b19-47a0-98c0-35b8c85f3b47",
   "metadata": {},
   "outputs": [],
   "source": [
    "print(mIdentity)"
   ]
  },
  {
   "cell_type": "code",
   "execution_count": null,
   "id": "ff1f72a9-44cd-46af-973b-3e165e133789",
   "metadata": {},
   "outputs": [],
   "source": [
    "print(mOne)"
   ]
  },
  {
   "cell_type": "code",
   "execution_count": null,
   "id": "53d0f9e3-28df-47cb-a87f-a22615161d23",
   "metadata": {},
   "outputs": [],
   "source": [
    "print(mFull)"
   ]
  },
  {
   "cell_type": "code",
   "execution_count": 135,
   "id": "31b8c268-eb06-4ae8-865d-d90ce20236e7",
   "metadata": {},
   "outputs": [
    {
     "name": "stdout",
     "output_type": "stream",
     "text": [
      "[[0.6957074  0.5958905  0.98716399 0.58369488 0.58480972]\n",
      " [0.34612577 0.66646164 0.54810205 0.18777931 0.58280242]\n",
      " [0.68358042 0.34644498 0.275923   0.50899339 0.0071345 ]\n",
      " [0.29177475 0.98197803 0.36777458 0.81479779 0.52964701]\n",
      " [0.94065268 0.45031484 0.57171639 0.12398837 0.66903814]]\n"
     ]
    }
   ],
   "source": [
    "print(mRandomFloat)"
   ]
  },
  {
   "cell_type": "code",
   "execution_count": 134,
   "id": "1d9831de-3b9d-4402-9f37-d0759a303efe",
   "metadata": {},
   "outputs": [
    {
     "name": "stdout",
     "output_type": "stream",
     "text": [
      "[85 50 17 77 50 32]\n"
     ]
    }
   ],
   "source": [
    "print(mRandomInt)"
   ]
  },
  {
   "cell_type": "code",
   "execution_count": 137,
   "id": "806eb3cb-88a2-4742-a352-8d35592264d4",
   "metadata": {},
   "outputs": [
    {
     "name": "stdout",
     "output_type": "stream",
     "text": [
      "hasil dari dot product : 65\n",
      "hasil penjumlahan matrix:[ 3  9 14]\n",
      "Nilai Mininmum dari [2 6 9]: 2\n",
      "Nilai Maksimum dari [1 3 5] : 5\n",
      "Rata-rata Nilai dari [1 3 5] : 3.0\n",
      "NIlai Median dari [1 3 5] : 3.0\n",
      "Nilai deviasi [1 3 5]: 1.632993161855452\n"
     ]
    }
   ],
   "source": [
    "x = np.array([2,6,9])\n",
    "y = np.array([1,3,5])\n",
    "\n",
    "dotProduct= np.dot(x,y)\n",
    "addMatrix= np.add(x,y)\n",
    "minValue= np.min(x)\n",
    "maxValue = np.max(y)\n",
    "meanValue = np.mean(y)\n",
    "medianValue = np.median(y)\n",
    "stdValue = np.std(y)\n",
    "\n",
    "print(f\"hasil dari dot product : {dotProduct}\")\n",
    "print(f\"hasil penjumlahan matrix:{addMatrix}\")\n",
    "print(f\"Nilai Mininmum dari {x}: {minValue}\")\n",
    "print(f\"Nilai Maksimum dari {y} : {maxValue}\")\n",
    "print(f\"Rata-rata Nilai dari {y} : {meanValue}\")\n",
    "print(f\"NIlai Median dari {y} : {medianValue}\")\n",
    "print(f\"Nilai deviasi {y}: {stdValue}\")"
   ]
  },
  {
   "cell_type": "code",
   "execution_count": 148,
   "id": "ce266fb0-84f1-4ad9-9642-6814f0a26b75",
   "metadata": {},
   "outputs": [
    {
     "name": "stdout",
     "output_type": "stream",
     "text": [
      "[[1 2 3]\n",
      " [4 5 6]\n",
      " [7 8 9]]\n",
      "[1 2 3 4 5 6 7 8 9]\n"
     ]
    }
   ],
   "source": [
    "myArray = np.array([[1,2,3],[4,5,6],[7,8,9]])\n",
    "\n",
    "reshape = myArray.reshape(3,3)\n",
    "flatten= myArray.flatten()\n",
    "\n",
    "print(reshape)\n",
    "print(flatten)"
   ]
  },
  {
   "cell_type": "code",
   "execution_count": 155,
   "id": "650f3f87-9b29-4043-b485-04fffbc1e67e",
   "metadata": {},
   "outputs": [
    {
     "name": "stdout",
     "output_type": "stream",
     "text": [
      "[ 80  90  60 100  95  55  60  65  75 100  95  95  95  55  95  55  60  60\n",
      "  60  60  65  75]\n",
      "jumlah siswa yg lulus:22\n",
      "jumlah siswa yg tdk lulus:9\n"
     ]
    }
   ],
   "source": [
    "#filtering\n",
    "nilaiSiswa = np.array([80,90,60,50,50,100,95,45,55,60,65,35,35,45,50,35,75,100,95,95,95,50,55,95,55,45,40,40,40,60,60,60,60,65,75])\n",
    "lulus= nilaiSiswa[nilaiSiswa>50]\n",
    "tidaklulus=nilaiSiswa[nilaiSiswa<50]\n",
    "jumlahtidaklulus=tidaklulus.size\n",
    "jumlah=lulus.size\n",
    "print(lulus)\n",
    "print(f\"jumlah siswa yg lulus:{jumlah}\")\n",
    "print(f\"jumlah siswa yg tdk lulus:{jumlahtidaklulus}\")"
   ]
  },
  {
   "cell_type": "code",
   "execution_count": null,
   "id": "fd401220-456c-4a72-bec5-4c8b7faf32a0",
   "metadata": {},
   "outputs": [],
   "source": []
  }
 ],
 "metadata": {
  "kernelspec": {
   "display_name": "Python 3 (ipykernel)",
   "language": "python",
   "name": "python3"
  },
  "language_info": {
   "codemirror_mode": {
    "name": "ipython",
    "version": 3
   },
   "file_extension": ".py",
   "mimetype": "text/x-python",
   "name": "python",
   "nbconvert_exporter": "python",
   "pygments_lexer": "ipython3",
   "version": "3.12.7"
  }
 },
 "nbformat": 4,
 "nbformat_minor": 5
}
