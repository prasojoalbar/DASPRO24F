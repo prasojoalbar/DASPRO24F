{
 "cells": [
  {
   "cell_type": "code",
   "execution_count": 3,
   "id": "bf899557-ce7b-4b8c-8364-f2a845830a82",
   "metadata": {},
   "outputs": [
    {
     "name": "stdin",
     "output_type": "stream",
     "text": [
      "Isikan Nilai X 293\n",
      "Isikan Nilai Y 219\n"
     ]
    },
    {
     "name": "stdout",
     "output_type": "stream",
     "text": [
      "Hasil Penjumlahan 293 + 219 = 512\n",
      "Hasil Pengurangan 293 - 219 = 74\n",
      "Hasil Kali 293 * 219 = 64167\n",
      "Hasil Pembagian 293 / 219 = 1.3378995433789955\n",
      "Hasil Modulus 293 & 219 = 1\n",
      "Hasil Pangkat 293 ** 219 = 1753916273059811529786595663392876299475205388029814137199747566667344941562427225294842553110006400599568111996823382364347706559263105904329843298757066893138496298519170514323014716753132065733040227818506121693756260010224463697388881811623156343131684016542361222711718379699519890559908142605507034957057768435790544745433080548762057084041276537253499238092569320288849305466083820802453504355181112193234612485725359907091082434516391267756540036561003724599209083061505812091293443732742922066889700327892112026223434897795078236157\n",
      "Hasil Pembagian Bulat 293 // 219 = 1\n"
     ]
    }
   ],
   "source": [
    " x=input(\"Isikan Nilai X\")\n",
    "y=input(\"Isikan Nilai Y\")\n",
    "x=int(x)\n",
    "y=int(y)\n",
    "\n",
    "\n",
    "\n",
    "hasilTambah =x+y\n",
    "hasilKurang =x-y\n",
    "hasilKali =x*y\n",
    "hasilBagi =x/y\n",
    "hasilMod = x&y\n",
    "hasilPangkat =x**y\n",
    "hasilDiv = x//y\n",
    "\n",
    "print(\"Hasil Penjumlahan\",x,\"+\",y,\"=\",hasilTambah)\n",
    "print(\"Hasil Pengurangan\",x,\"-\",y,\"=\",hasilKurang)\n",
    "print(\"Hasil Kali\",x,\"*\",y,\"=\",hasilKali)\n",
    "print(\"Hasil Pembagian\",x,\"/\",y,\"=\",hasilBagi)\n",
    "print(\"Hasil Modulus\",x,\"&\",y,\"=\",hasilMod)\n",
    "print(\"Hasil Pangkat\",x,\"**\",y,\"=\",hasilPangkat)\n",
    "print(\"Hasil Pembagian Bulat\",x,\"//\",y,\"=\",hasilDiv)"
   ]
  },
  {
   "cell_type": "code",
   "execution_count": 13,
   "id": "5ce32651-2ba1-43c7-9fb5-56adb9807df2",
   "metadata": {},
   "outputs": [
    {
     "name": "stdin",
     "output_type": "stream",
     "text": [
      "Isikan Nilai Awal: 5\n"
     ]
    },
    {
     "name": "stdout",
     "output_type": "stream",
     "text": [
      "Setelah ditambah 3= 8\n",
      "Kemudian dikurang dengan 5 3\n",
      "kemudian dikali dengan 3 9\n",
      "Proses terakhir dibagi dengan 2= 4.5\n"
     ]
    }
   ],
   "source": [
    "## operator penugasan\n",
    "nilaiAwal =int(input(\"Isikan Nilai Awal:\"))\n",
    "nilaiAwal+=3\n",
    "print(\"Setelah ditambah 3=\",nilaiAwal)\n",
    "nilaiAwal-=5\n",
    "print(\"Kemudian dikurang dengan 5\",nilaiAwal)\n",
    "nilaiAwal*=3\n",
    "print(\"kemudian dikali dengan 3\",nilaiAwal)\n",
    "nilaiAwal/=2\n",
    "print(\"Proses terakhir dibagi dengan 2=\",nilaiAwal)"
   ]
  },
  {
   "cell_type": "code",
   "execution_count": null,
   "id": "8c74cc8d-1caf-4ed4-9c2e-7e316827ca1c",
   "metadata": {},
   "outputs": [],
   "source": []
  },
  {
   "cell_type": "code",
   "execution_count": 17,
   "id": "13b98fb4-6c44-4e2c-955e-ca6a0e3a557e",
   "metadata": {},
   "outputs": [
    {
     "name": "stdin",
     "output_type": "stream",
     "text": [
      "Isikan Nilai fNilai : 78\n",
      "Isikan nilai sVal : 21\n"
     ]
    },
    {
     "name": "stdout",
     "output_type": "stream",
     "text": [
      "78 = 21 False\n",
      "78 != 21 True\n",
      "78 < 21 False\n",
      "78 > 21 True\n",
      "78 >= 21 True\n",
      "78 <= 21 False\n"
     ]
    }
   ],
   "source": [
    "## operator perbandingan\n",
    "fVal =int(input(\"Isikan Nilai fNilai :\"))\n",
    "sVal= int(input(\"Isikan nilai sVal :\"))\n",
    "\n",
    "print(fVal,\"=\",sVal,fVal==sVal)\n",
    "print(fVal,\"!=\",sVal,fVal!=sVal)\n",
    "print(fVal,\"<\",sVal,fVal<sVal)\n",
    "print(fVal,\">\",sVal,fVal>sVal)\n",
    "print(fVal,\">=\",sVal,fVal>=sVal)\n",
    "print(fVal,\"<=\",sVal,fVal<=sVal)\n",
    "\n"
   ]
  },
  {
   "cell_type": "code",
   "execution_count": 2,
   "id": "e7643008-63df-4995-8b7e-fe5afec658b8",
   "metadata": {},
   "outputs": [
    {
     "name": "stdin",
     "output_type": "stream",
     "text": [
      "Isikan Bilangan 1 : 2\n",
      "Isikan Bilangan 2 : 1\n"
     ]
    },
    {
     "name": "stdout",
     "output_type": "stream",
     "text": [
      "Bilangan 1 : 2\n",
      "Bilangan 2 : 1\n",
      "Apakah Bilangan 1 mod 2 = 0 dan Bilangan 2 lebih besar dari 3? False\n",
      "Apakah Bilangan 1 mod 2 = 0 dan Bilangan 2 lebih besar dari 3? False\n",
      "Apakah Bilangan 1 mod 2 = 0 dan Bilangan 2 lebih besar dari 3? True\n"
     ]
    }
   ],
   "source": [
    "##operator logika\n",
    "num_1 = int(input(\"Isikan Bilangan 1 :\"))\n",
    "num_2 = int(input(\"Isikan Bilangan 2 :\"))\n",
    "\n",
    "print(\"Bilangan 1 :\",num_1)\n",
    "print(\"Bilangan 2 :\", num_2)\n",
    "\n",
    "print(\"Apakah Bilangan 1 mod 2 = 0 dan Bilangan 2 lebih besar dari 3?\", num_1 & 2== 0 and num_2 > 3)\n",
    "print(\"Apakah Bilangan 1 mod 2 = 0 dan Bilangan 2 lebih besar dari 3?\", num_1 & 2== 0 or num_2 > 3)\n",
    "print(\"Apakah Bilangan 1 mod 2 = 0 dan Bilangan 2 lebih besar dari 3?\", not(num_1 & 2== 0 or num_2 > 3))\n",
    "\n"
   ]
  },
  {
   "cell_type": "code",
   "execution_count": 51,
   "id": "a0cdabf4-572d-4c92-a12c-964941386c4f",
   "metadata": {},
   "outputs": [
    {
     "name": "stdout",
     "output_type": "stream",
     "text": [
      "True\n",
      "False\n",
      "True\n",
      "Memory Address dari val1 2381186525648\n",
      "Memory Address dari val2 140718068280024\n",
      "Memory Address dari val3 140718068280024\n"
     ]
    },
    {
     "name": "stderr",
     "output_type": "stream",
     "text": [
      "<>:2: SyntaxWarning: \"is\" with 'str' literal. Did you mean \"==\"?\n",
      "<>:2: SyntaxWarning: \"is\" with 'str' literal. Did you mean \"==\"?\n",
      "C:\\Users\\MyBook Hype AMD\\AppData\\Local\\Temp\\ipykernel_14652\\1732006746.py:2: SyntaxWarning: \"is\" with 'str' literal. Did you mean \"==\"?\n",
      "  print(\"Andi\" is \"Andi\")\n"
     ]
    }
   ],
   "source": [
    "## operator identitas\n",
    "print(\"Andi\" is \"Andi\")\n",
    "val1=\"10\"\n",
    "val2= 10\n",
    "val3= val2\n",
    "print(val1 is val2)\n",
    "print(val1 is not val2)\n",
    "\n",
    "print(\"Memory Address dari val1\",id(val1))\n",
    "print(\"Memory Address dari val2\",id(val2))\n",
    "print(\"Memory Address dari val3\",id(val3))"
   ]
  },
  {
   "cell_type": "code",
   "execution_count": 70,
   "id": "6c109b1c-1553-469d-b481-5f2a09391cdb",
   "metadata": {},
   "outputs": [
    {
     "name": "stdout",
     "output_type": "stream",
     "text": [
      "True\n",
      "False\n"
     ]
    }
   ],
   "source": [
    "##operator keanggotaan\n",
    "find=\"Budi\"\n",
    "daftarMahasiswa=[\"Rudi\",\"Deni\",\"Nana\",\"Budi\"]\n",
    "\n",
    "print(find in daftarMahasiswa)\n",
    "print(find not in daftarMahasiswa)"
   ]
  },
  {
   "cell_type": "code",
   "execution_count": 71,
   "id": "e2352653-b330-4686-9605-fcdc3a30cd9a",
   "metadata": {},
   "outputs": [
    {
     "name": "stdin",
     "output_type": "stream",
     "text": [
      "isikan Nilai 1: 64\n",
      "isikan Nilai 2: 3\n"
     ]
    },
    {
     "name": "stdout",
     "output_type": "stream",
     "text": [
      "0\n",
      "67\n",
      "67\n",
      "512\n",
      "8\n"
     ]
    }
   ],
   "source": [
    "## operator bitwise\n",
    "\n",
    "desimal1 = int(input(\"isikan Nilai 1:\"))\n",
    "desimal2 = int(input(\"isikan Nilai 2:\"))\n",
    "\n",
    "print(desimal1 & desimal2)\n",
    "print(desimal1 | desimal2)\n",
    "print(desimal1 ^ desimal2)\n",
    "print(desimal1 << desimal2)\n",
    "print(desimal1 >> desimal2)"
   ]
  },
  {
   "cell_type": "code",
   "execution_count": null,
   "id": "cae3c4d5-7899-472c-808a-d7b5d5d24ffb",
   "metadata": {},
   "outputs": [],
   "source": []
  }
 ],
 "metadata": {
  "kernelspec": {
   "display_name": "Python 3 (ipykernel)",
   "language": "python",
   "name": "python3"
  },
  "language_info": {
   "codemirror_mode": {
    "name": "ipython",
    "version": 3
   },
   "file_extension": ".py",
   "mimetype": "text/x-python",
   "name": "python",
   "nbconvert_exporter": "python",
   "pygments_lexer": "ipython3",
   "version": "3.12.7"
  }
 },
 "nbformat": 4,
 "nbformat_minor": 5
}
