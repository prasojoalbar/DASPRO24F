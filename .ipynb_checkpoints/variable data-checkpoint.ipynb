{
 "cells": [
  {
   "cell_type": "code",
   "execution_count": 576,
   "id": "85e20807-eeda-493b-bd93-28aee1874d3d",
   "metadata": {},
   "outputs": [
    {
     "name": "stdout",
     "output_type": "stream",
     "text": [
      "Nama : jokowi\n",
      "Umur : 20\n",
      "Alamat : Jl.Cibadak\n",
      "Provinsi : 7413412\n",
      "Nilai Pemrograman : 15.5\n",
      "Status Menikah : True\n"
     ]
    }
   ],
   "source": [
    "name = \"jokowi\"\n",
    "age =20\n",
    "address,province=\"Jl.Cibadak\",\"7413412\"\n",
    "pythonScore = 15.5\n",
    "isMarried = True\n",
    "\n",
    "print(\"Nama :\",name)\n",
    "print(\"Umur :\",age)\n",
    "print(\"Alamat :\",address)\n",
    "print(\"Provinsi :\",province)\n",
    "print(\"Nilai Pemrograman :\",pythonScore)\n",
    "print(\"Status Menikah :\" ,isMarried)\n"
   ]
  },
  {
   "cell_type": "code",
   "execution_count": 479,
   "id": "7de173ae-9e53-4ae7-a861-e9934a632669",
   "metadata": {},
   "outputs": [
    {
     "name": "stdout",
     "output_type": "stream",
     "text": [
      "tipe Data (Nama): <class 'str'>\n",
      "tipe Data (Umur): <class 'int'>\n",
      "tipe Data (Alamat): <class 'str'>\n",
      "tipe Data (Provinsi): <class 'str'>\n",
      "tipe Data (Nilai Pemrograman): <class 'float'>\n",
      "tipe Data (Status Menikah): <class 'bool'>\n"
     ]
    }
   ],
   "source": [
    "print(\"tipe Data (Nama):\",type(name))\n",
    "print(\"tipe Data (Umur):\",type(age))\n",
    "print(\"tipe Data (Alamat):\",type(address))\n",
    "print(\"tipe Data (Provinsi):\",type(province))\n",
    "print(\"tipe Data (Nilai Pemrograman):\",type(pythonScore))\n",
    "print(\"tipe Data (Status Menikah):\",type(isMarried))\n",
    "\n"
   ]
  },
  {
   "cell_type": "code",
   "execution_count": 511,
   "id": "e3c0fa24-3caf-49d5-878b-a4521fc0db4a",
   "metadata": {},
   "outputs": [
    {
     "name": "stdout",
     "output_type": "stream",
     "text": [
      "7413412 7413412.0 True\n",
      "15 15.5 True\n",
      "20 20.0 True\n",
      "True 1 1.0\n"
     ]
    }
   ],
   "source": [
    "strToInt = int(province)\n",
    "strToFloat = float(province)\n",
    "strToBool = bool(province)\n",
    "print(strToInt,strToFloat,strToBool)\n",
    "\n",
    "floatToInt = int(pythonScore)\n",
    "floatToStr = str(pythonScore)\n",
    "floatToBool = bool(pythonScore)\n",
    "print(floatToInt,floatToStr,floatToBool)\n",
    "\n",
    "intToStr = str(age)\n",
    "intToFloat = float(age)\n",
    "intToBool = bool(age)\n",
    "print(intToStr,intToFloat,intToBool)\n",
    "\n",
    "boolToStr= str(isMarried)\n",
    "boolToInt = int(isMarried)\n",
    "boolToFloat = float(isMarried)\n",
    "print(boolToStr,boolToInt,boolToFloat)\n"
   ]
  },
  {
   "cell_type": "code",
   "execution_count": 516,
   "id": "314bccb7-ff7c-4cd2-bd86-e313aae284f6",
   "metadata": {},
   "outputs": [
    {
     "name": "stdout",
     "output_type": "stream",
     "text": [
      "C\n",
      "k\n"
     ]
    }
   ],
   "source": [
    "city=\"Cibadak\"\n",
    "panjang =len(city)\n",
    "print(city[0])\n",
    "print(city[panjang-1])\n"
   ]
  },
  {
   "cell_type": "code",
   "execution_count": 527,
   "id": "0a126cd4-98e6-40ab-b572-6d82f1ba4eaf",
   "metadata": {
    "editable": true,
    "slideshow": {
     "slide_type": ""
    },
    "tags": []
   },
   "outputs": [
    {
     "name": "stdout",
     "output_type": "stream",
     "text": [
      "Nilai desimal: 500\n",
      "Nilai biner: 10\n",
      "Nilai octal: 255\n",
      "Nilai hexa: 255\n",
      "biner dari 500 : 0b111110100\n",
      "octal dari 500 : 0o764\n",
      "hexa dari  500 : 0x1f4\n"
     ]
    }
   ],
   "source": [
    "desimal = 500\n",
    "biner = 0b1010\n",
    "octal = 0o377\n",
    "hexa = 0xff\n",
    "\n",
    "print(\"Nilai desimal:\",desimal)\n",
    "print(\"Nilai biner:\",biner)\n",
    "print(\"Nilai octal:\",octal)\n",
    "print(\"Nilai hexa:\",hexa)\n",
    "\n",
    "print(\"biner dari\" ,desimal ,\":\",bin(desimal))\n",
    "print(\"octal dari\" ,desimal ,\":\", oct(desimal))\n",
    "print(\"hexa dari \",desimal,\":\",hex(desimal))"
   ]
  },
  {
   "cell_type": "code",
   "execution_count": 528,
   "id": "43e83f44-7dc6-4175-b5a2-1cb933a08e0f",
   "metadata": {},
   "outputs": [
    {
     "name": "stdout",
     "output_type": "stream",
     "text": [
      "['Sukabumi', 'Malang', 'Bandung', 'Surabaya']\n",
      "Sukabumi\n",
      "Surabaya\n",
      "['Sukabumi', 'Jakarta', 'Bandung', 'Surabaya']\n"
     ]
    }
   ],
   "source": [
    "#tipe data collection\n",
    "cities=[\"Sukabumi\",\"Malang\",\"Bandung\",\"Surabaya\"]\n",
    "print(cities)\n",
    "print(cities[0])\n",
    "print(cities[len(cities)-1])\n",
    "cities[1]=\"Jakarta\"\n",
    "print(cities)\n"
   ]
  },
  {
   "cell_type": "code",
   "execution_count": 575,
   "id": "c7b03b34-ceb3-45db-ab2e-312e63be39ff",
   "metadata": {},
   "outputs": [
    {
     "name": "stdout",
     "output_type": "stream",
     "text": [
      "('Basket', 'Sholat', 'Football')\n",
      "Basket\n",
      "{'name': 'Alges', 'age': 69, 'address': {'street': 'Jl.Cilegon', 'number': 20, 'province': 'Kab.Sukabumi'}}\n",
      "Alges\n",
      "Kab.Sukabumi\n"
     ]
    }
   ],
   "source": [
    "#tipe data tuple\n",
    "hobbies=(\"Basket\",\"Sholat\",\"Football\")\n",
    "print(hobbies)\n",
    "print(hobbies[0])\n",
    "#hobbies[0]=\"Watching Netflix\"\n",
    "\n",
    "#tipe data tuple tidak bisa dirubah!!!!!!!\n",
    "#DICTIONARY\n",
    "studentData={\n",
    "    \"name\" : \"Alges\",\n",
    "    \"age\" : 69,\n",
    "    \"address\" :{\n",
    "        \"street\" :\"Jl.Cilegon\",\n",
    "        \"number\" :20,\n",
    "        \"province\" :\"Kab.Sukabumi\",\n",
    "    }\n",
    "}\n",
    "print(studentData)\n",
    "print(studentData[\"name\"])\n",
    "print(studentData[\"address\"][\"province\"])"
   ]
  },
  {
   "cell_type": "code",
   "execution_count": 835,
   "id": "23b1f2f6-864b-4e6a-9a88-855d81623d5b",
   "metadata": {},
   "outputs": [
    {
     "ename": "SyntaxError",
     "evalue": "invalid syntax (1761969709.py, line 4)",
     "output_type": "error",
     "traceback": [
      "\u001b[1;36m  Cell \u001b[1;32mIn[835], line 4\u001b[1;36m\u001b[0m\n\u001b[1;33m    \"age\" : 69 ,\u001b[0m\n\u001b[1;37m          ^\u001b[0m\n\u001b[1;31mSyntaxError\u001b[0m\u001b[1;31m:\u001b[0m invalid syntax\n"
     ]
    }
   ],
   "source": [
    "studentList= [\n",
    "{\n",
    "    \"name\" : \"Alges\"\n",
    "    \"age\" : 69 ,\n",
    "    \"address\" :{\n",
    "        \"street\" :\"Jl.Cilegon\",\n",
    "        \"number\" :20,\n",
    "        \"province\" :\"Kab.Sukabumi\"\n",
    "    }\n",
    "},\n",
    "    \"name\" : \"Rijal Bengkel\",\n",
    "    \"age\" : 49,\n",
    "    \"address\" : {\n",
    "        \"street\" :\"Jl.Ciputat\",\n",
    "        \"number\" :23,\n",
    "        \"province\" :\"Kab.Sukasuka\"\n",
    "    }\n",
    "\n",
    "]\n",
    "            \n",
    "print(studentList[1])"
   ]
  },
  {
   "cell_type": "code",
   "execution_count": null,
   "id": "f13e7b6b-bdd4-4c64-a6c8-d0ecb1af1705",
   "metadata": {},
   "outputs": [],
   "source": []
  }
 ],
 "metadata": {
  "kernelspec": {
   "display_name": "Python 3 (ipykernel)",
   "language": "python",
   "name": "python3"
  },
  "language_info": {
   "codemirror_mode": {
    "name": "ipython",
    "version": 3
   },
   "file_extension": ".py",
   "mimetype": "text/x-python",
   "name": "python",
   "nbconvert_exporter": "python",
   "pygments_lexer": "ipython3",
   "version": "3.12.7"
  }
 },
 "nbformat": 4,
 "nbformat_minor": 5
}
