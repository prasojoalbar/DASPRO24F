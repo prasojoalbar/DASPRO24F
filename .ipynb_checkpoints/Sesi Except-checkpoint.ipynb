{
 "cells": [
  {
   "cell_type": "code",
   "execution_count": null,
   "id": "af441d74-c48c-4bc4-b6c9-47e2a3322ac4",
   "metadata": {},
   "outputs": [],
   "source": [
    "angka1 = int(input(\"Angka1:\"))\n",
    "angka2 =int(input(\"Angka2:\"))\n",
    "operator = input(\"Operator (+,-,*,/):\")\n",
    "hasil = 0\n",
    "\n",
    "try:\n",
    "    if operator == \"+\":\n",
    "        hasil = angka1 + angka2\n",
    "    elif operator == \"*\":\n",
    "        hasil = angka1 * angka2\n",
    "    elif operator == \"/\":\n",
    "        hasil = angka1 / angka2\n",
    "    else:\n",
    "        hasil = \"Operator salah\"\n",
    "except (ZeroDivisionError,ValueError) as err:\n",
    "    print(\"terdapat keselahan:\",err )\n",
    "else:\n",
    "    print(f\"hasil daro {angka1} {operator} {angka2} adalah: {hasil}\")\n",
    "\n",
    "finally:\n",
    "    print(f\"Program sudah selesai berjalan\")"
   ]
  },
  {
   "cell_type": "code",
   "execution_count": null,
   "id": "385077aa-75c3-407a-b2e7-29a432304d94",
   "metadata": {},
   "outputs": [],
   "source": [
    "hasil = 0\n",
    "try:\n",
    "    angka1 = int(input(\"Angka1:\"))\n",
    "    angka2 =int(input(\"Angka2:\"))\n",
    "    operator = input(\"Operator (+,-,*,/):\")\n",
    "    if operator == \"+\":\n",
    "        hasil = angka1 + angka2\n",
    "    elif operator == \"*\":\n",
    "        hasil = angka1 * angka2\n",
    "    elif operator == \"/\":\n",
    "        hasil = angka1 / angka2\n",
    "    else:\n",
    "        hasil = \"Operator salah\"\n",
    "except (ZeroDivisionError,ValueError) as err:\n",
    "    print(\"terdapat keselahan:\",err )\n",
    "else:\n",
    "    print(f\"hasil daro {angka1} {operator} {angka2} adalah: {hasil}\")\n",
    "\n",
    "finally:\n",
    "    print(f\"Program sudah selesai berjalan\")"
   ]
  },
  {
   "cell_type": "code",
   "execution_count": null,
   "id": "c4ba1b0d-84b4-4bc2-a496-9b6b182200d5",
   "metadata": {},
   "outputs": [],
   "source": [
    "#index error -> list\n",
    "data= []\n",
    "try:\n",
    "    jumlahData = int(input(\"banyak data:\"))\n",
    "    for i in range ( 0,jumlahData):\n",
    "        nilai = int(input(\"Isikan Nilai Siswa:\"))\n",
    "        data.append(nilai)\n",
    "    showData = int(input(\"Tampilkan data urutan ke berapa:\"))\n",
    "except ValueError:\n",
    "    print(\"input harus angka!!\")\n",
    "except IndexError:\n",
    "    print(\"data tidak tersedia\")\n",
    "else:\n",
    "    print(hasil)\n",
    "finally:\n",
    "    print(\"load data selesai!!\")\n",
    "    "
   ]
  },
  {
   "cell_type": "code",
   "execution_count": null,
   "id": "405ea48b-50f7-4d8f-9977-9a5cd24c0ec9",
   "metadata": {},
   "outputs": [],
   "source": [
    "#CUSTOM EXCEPTION\n",
    "# tiket film, umur harus >= 17\n",
    "\n",
    "class UmurException(Exception):\n",
    "    pass\n",
    "\n",
    "def checkUmur(umur):\n",
    "    if umur < 17 :\n",
    "        raise UmurException(\"Umur harus lebih dari 16\")\n",
    "\n",
    "try:\n",
    "    umur = int(input(\"Isikan Umur\"))\n",
    "    checkUmur(umur)\n",
    "except (ValueError,UmurException) as err:\n",
    "    print(\"terjadi kesalahan\", err)\n",
    "else:\n",
    "    print(\"umur anda valid\")\n",
    "finally:\n",
    "    print(\"cek umur sudah selesai\")\n",
    "    \n",
    "\n"
   ]
  },
  {
   "cell_type": "code",
   "execution_count": null,
   "id": "668e464b-82b7-42dd-811f-096d147236fe",
   "metadata": {},
   "outputs": [],
   "source": [
    "#Data dari data base -> dict\n",
    "#ada kemungkinana data tidak terambil semuanya\n",
    "\n",
    "try:\n",
    "    dataSiswa = {\n",
    "        \"nim\" : \"2024004\",\n",
    "        \"nama\" : \"Albar\",\n",
    "        \"alamat\" : \"Parkud\"\n",
    "    }\n",
    "    print(dataSiswa[\"nama\"])\n",
    "except KeyError:\n",
    "    print(\"Data tidak Tersedia\")\n",
    "except NamerError:\n",
    "    print(\"kesalahan mengakses nama atribut\")\n",
    "\n"
   ]
  },
  {
   "cell_type": "code",
   "execution_count": null,
   "id": "2e52a771-e943-40d4-8f09-e7183e9ec772",
   "metadata": {},
   "outputs": [],
   "source": [
    "#fle handling-> mengakses file plain text\n",
    "#open (\"Nama_File\",\"Mode\")\n",
    "#mode ->r - read, w - write , a - append\n",
    "try:\n",
    "    file = open(\"data_sensus.csv\",'r')\n",
    "    konten = file.read()\n",
    "except FileNotFoundError:\n",
    "    print(\"file tidak ditemukan\")\n",
    "else:\n",
    "    print(konten)\n",
    "finally:\n",
    "    file.close()"
   ]
  },
  {
   "cell_type": "code",
   "execution_count": 52,
   "id": "33ce66cc-8312-4154-9f93-b6db0d79ec23",
   "metadata": {},
   "outputs": [],
   "source": [
    "try:\n",
    "    with open(\"data.txt\",'a') as file:\n",
    "        file.write(\"Hello, Apakabar!!\\n\")\n",
    "        file.write(\"Minggu depan UAS\\n\")\n",
    "except FileNotFound:\n",
    "    print(\"File tidak ditemukan!!\")"
   ]
  },
  {
   "cell_type": "code",
   "execution_count": null,
   "id": "98e0dc6a-a054-4b38-9a5d-f4583fa2e826",
   "metadata": {},
   "outputs": [],
   "source": []
  }
 ],
 "metadata": {
  "kernelspec": {
   "display_name": "Python 3 (ipykernel)",
   "language": "python",
   "name": "python3"
  },
  "language_info": {
   "codemirror_mode": {
    "name": "ipython",
    "version": 3
   },
   "file_extension": ".py",
   "mimetype": "text/x-python",
   "name": "python",
   "nbconvert_exporter": "python",
   "pygments_lexer": "ipython3",
   "version": "3.12.7"
  }
 },
 "nbformat": 4,
 "nbformat_minor": 5
}
