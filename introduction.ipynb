{
 "cells": [
  {
   "cell_type": "markdown",
   "id": "2536cd7f-8792-4e05-a6ca-e0d51f6e21b0",
   "metadata": {},
   "source": [
    "<center><img src=\"https://banner2.cleanpng.com/20180825/box/kisspng-python-programming-language-computer-programming-c-hanuman-png-transparent-images-free-download-clip-1713948647636.webp\" width=\"300\"></center><br>Jenis cell di <b>Jupyter</b> notebook ada 2\n",
    "<ol>\n",
    "    <li> Mark down (M)</li>\n",
    "    <li>Code (Y)</li>\n",
    "</ol>\n",
    "<hr>"
   ]
  },
  {
   "cell_type": "markdown",
   "id": "b04c7362-244d-472d-a76c-0f5d040039ea",
   "metadata": {},
   "source": [
    "Cara menambah cell ada 2\n",
    "<ul>\n",
    "    <li>= Above (A)</li>\n",
    "    <li>= Below (B)</lis>\n",
    "</ul>\n",
    "<table>\n",
    "    <tr>\n",
    "        <td>Perintah</td>\n",
    "        <td>Keterngan</td>\n",
    "    </tr\n",
    "    <tr>\n",
    "        <td> cntrl-enter</td>\n",
    "        <td> Runningndan fokus di cell</td>\n",
    "    </tr>\n",
    "    <tr>\n",
    "        <td>shift + center</td>\n",
    "        <td>Running </td>\n",
    "\n",
    "                        \n",
    "</table>"
   ]
  },
  {
   "cell_type": "code",
   "execution_count": null,
   "id": "7ba9e19f-0837-40b3-97aa-aa09e1e79992",
   "metadata": {},
   "outputs": [],
   "source": [
    "\n",
    "\n"
   ]
  },
  {
   "cell_type": "code",
   "execution_count": 4,
   "id": "3a93a6d3-b5a5-4697-88b6-a836e064188d",
   "metadata": {},
   "outputs": [
    {
     "name": "stdout",
     "output_type": "stream",
     "text": [
      "Python  15 is very easy\n",
      "5\n",
      "Sekarang hari jumat\n",
      "dekarasikan variabel \"A\"\n",
      "15\n",
      "10\n"
     ]
    },
    {
     "data": {
      "text/plain": [
       "105"
      ]
     },
     "execution_count": 4,
     "metadata": {},
     "output_type": "execute_result"
    }
   ],
   "source": [
    "print(\"Python  15 is very easy\")\n",
    "data=5\n",
    "data2=\"10\"\n",
    "print(data)\n",
    "print(\"Sekarang hari jumat\")\n",
    "print('dekarasikan variabel \"A\"')\n",
    "print(data + int(data2))\n",
    "print(data2)\n",
    "data2\n",
    "data+100\n",
    "\n",
    "      \n",
    "\n",
    "\n",
    "\n",
    "\n",
    "\n",
    "\n",
    "\n",
    "\n",
    "\n",
    "\n",
    "\n",
    "\n",
    "\n",
    "\n",
    "\n",
    "\n",
    "\n",
    "\n",
    "\n",
    "\n",
    "\n",
    "\n",
    "\n",
    "\n",
    "\n",
    "\n",
    "\n",
    "\n",
    "\n",
    "\n",
    "\n",
    "\n",
    "\n",
    "\n",
    "\n",
    "\n",
    "\n",
    "\n",
    "\n",
    "\n",
    "\n",
    "\n",
    "\n",
    "\n",
    "\n",
    "\n",
    "\n",
    "\n",
    "\n",
    "\n",
    "\n",
    "\n",
    "\n",
    "\n",
    "\n",
    "\n",
    "\n",
    "\n",
    "\n",
    "\n",
    "\n",
    "\n",
    "\n",
    "\n",
    "\n"
   ]
  },
  {
   "cell_type": "code",
   "execution_count": null,
   "id": "a103bd45-ebac-42f3-b67e-b2368b285b94",
   "metadata": {},
   "outputs": [],
   "source": []
  }
 ],
 "metadata": {
  "kernelspec": {
   "display_name": "Python 3 (ipykernel)",
   "language": "python",
   "name": "python3"
  },
  "language_info": {
   "codemirror_mode": {
    "name": "ipython",
    "version": 3
   },
   "file_extension": ".py",
   "mimetype": "text/x-python",
   "name": "python",
   "nbconvert_exporter": "python",
   "pygments_lexer": "ipython3",
   "version": "3.12.7"
  }
 },
 "nbformat": 4,
 "nbformat_minor": 5
}
