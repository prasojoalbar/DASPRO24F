{
 "cells": [
  {
   "cell_type": "code",
   "execution_count": 7,
   "id": "e10841ee-38b6-4f50-a9a7-1c418544e636",
   "metadata": {},
   "outputs": [
    {
     "name": "stdout",
     "output_type": "stream",
     "text": [
      "Hallo, Apa kabar?\n",
      "Hallo, Apa kabar?\n"
     ]
    }
   ],
   "source": [
    "#fungsi tanpa parameter tidak ada return value\n",
    "def greeting():\n",
    "    print(\"Hallo, Apa kabar?\")\n",
    "greeting()\n",
    "greeting()"
   ]
  },
  {
   "cell_type": "code",
   "execution_count": 11,
   "id": "f48f5b6c-249e-403e-8dbb-548a447bcda1",
   "metadata": {},
   "outputs": [
    {
     "name": "stdout",
     "output_type": "stream",
     "text": [
      "Sekarang tanggal:2025-05-27\n",
      "sekarang weekday\n"
     ]
    }
   ],
   "source": [
    "import datetime\n",
    "def showDate():\n",
    "    today = datetime.date.today()\n",
    "    print(f\"Sekarang tanggal:{today}\")\n",
    "\n",
    "def isWeekend():\n",
    "    today = datetime.date.today().weekday()\n",
    "    if today<5:\n",
    "        print(\"sekarang weekday\")\n",
    "    else:\n",
    "        print(\"sekarang weekend\")\n",
    "showDate()\n",
    "isWeekend()\n"
   ]
  },
  {
   "cell_type": "code",
   "execution_count": 18,
   "id": "39b24665-ddf2-45f1-9e4f-e1eb57be8041",
   "metadata": {},
   "outputs": [
    {
     "name": "stdout",
     "output_type": "stream",
     "text": [
      "Devi Rangga Gilang\n",
      "Devi Rangga Gilang, S.D\n"
     ]
    }
   ],
   "source": [
    "#fungsi dengan parameter, tidak ada return value\n",
    "def getFullName(first,middle,last):\n",
    "    print(f\"{first} {middle} {last}\")\n",
    "\n",
    "def getName(first,middle,last):\n",
    "    return f\"{first } {middle} {last}\"\n",
    "\n",
    "getFullName(\"Devi\",\"Rangga\",\"Gilang\")\n",
    "myname = getName(\"Devi\",\"Rangga\",\"Gilang\")\n",
    "\n",
    "title = \"S.D\"\n",
    "print(f\"{myname}, {title}\")\n"
   ]
  },
  {
   "cell_type": "code",
   "execution_count": 20,
   "id": "9d9d6739-9951-43a7-a7ca-1ad3c939ffcb",
   "metadata": {},
   "outputs": [
    {
     "name": "stdout",
     "output_type": "stream",
     "text": [
      "hasil penjumlahan 5 dan 6:11\n",
      "hasil kali 5 dan 6:30\n",
      "hasil jumlah 11 dan 30 :41\n"
     ]
    }
   ],
   "source": [
    "#fungsi aritmatika\n",
    "def add(num1,num2):\n",
    "    return num1 + num2\n",
    "\n",
    "def multiply(num1,num2):\n",
    "    return num1 * num2\n",
    "\n",
    "r1 = add(5,6)\n",
    "r2 = multiply(5,6)\n",
    "r3 = add(r1,r2)\n",
    "\n",
    "print(f\"hasil penjumlahan 5 dan 6:{r1}\")\n",
    "print(f\"hasil kali 5 dan 6:{r2}\")\n",
    "print(f\"hasil jumlah {r1} dan {r2} :{r3}\")"
   ]
  },
  {
   "cell_type": "code",
   "execution_count": 34,
   "id": "d744951b-7216-480e-9c35-d3fe023f1810",
   "metadata": {},
   "outputs": [
    {
     "name": "stdout",
     "output_type": "stream",
     "text": [
      "hasil penjumlahan:1\n",
      "hasil kali :-6\n"
     ]
    }
   ],
   "source": [
    "## fungsi dengan  return lebih dari 1\n",
    "def arithmatic(num1,num2):\n",
    "    add = num1 + num2\n",
    "    multiply = num1 * num2\n",
    "    return add,multiply\n",
    "\n",
    "tambah,kali= arithmatic(-2,3)\n",
    "print(f\"hasil penjumlahan:{tambah}\")\n",
    "print(f\"hasil kali :{kali}\")"
   ]
  },
  {
   "cell_type": "code",
   "execution_count": 45,
   "id": "f6dba321-d64e-48ff-90d9-034fbb5ed1c7",
   "metadata": {},
   "outputs": [
    {
     "name": "stdout",
     "output_type": "stream",
     "text": [
      "Registration is successfull\n",
      "Username : Depi\n",
      "Password : 123321\n",
      "Email : depigimang@gmail.com\n",
      " Status : aktif\n",
      "\n"
     ]
    }
   ],
   "source": [
    "#fungsi  dengan nilai default\n",
    "def userRegistration(email,username,password,status=\"Belum aktif\"):\n",
    "    result = \"\"\n",
    "    if(len(username)> 3):\n",
    "        if(len(password)> 5):\n",
    "            result += f\"Registration is successfull\\n\"\n",
    "            result += f\"Username : {username}\\n\"\n",
    "            result += f\"Password : {password}\\n\"\n",
    "            result += f\"Email : {email}\\n\"\n",
    "            result += f\" Status : {status}\\n\"\n",
    "            return result\n",
    "        else:\n",
    "            return \"Registrationn Failed (Password must be more than 5)\"\n",
    "    else:\n",
    "        return\"Registration failed (Username must be more than 3)\"\n",
    "\n",
    "print(userRegistration(\"depigimang@gmail.com\",\"Depi\",\"123321\",\"aktif\"))"
   ]
  },
  {
   "cell_type": "code",
   "execution_count": 93,
   "id": "015e0f95-29ab-414f-9203-8be70724bea4",
   "metadata": {},
   "outputs": [
    {
     "name": "stdout",
     "output_type": "stream",
     "text": [
      "Registration failed (Username must be more than 3)\n"
     ]
    }
   ],
   "source": [
    "def userRegistration(email,username,password,status=\"Belum aktif\"):\n",
    "    result = \"\"\n",
    "    if(len(username)> 3):\n",
    "        if(len(password)> 5):\n",
    "            result += f\"Registration is successfull\\n\"\n",
    "            result += f\"Username : {username}\\n\"\n",
    "            result += f\"Password : {password}\\n\"\n",
    "            result += f\"Email : {email}\\n\"\n",
    "            result += f\" Status : {status}\\n\"\n",
    "            return result\n",
    "        else:\n",
    "            return \"Registrationn Failed (Password must be more than 5)\"\n",
    "    else:\n",
    "        return\"Registration failed (Username must be more than 3)\"\n",
    "\n",
    "print(userRegistration(\"depigimang@gmail.com\",\"Dei\",\"121\",\"aktif\"))"
   ]
  },
  {
   "cell_type": "code",
   "execution_count": 102,
   "id": "ab90d820-10ba-4fd3-b03f-53129cc29b0b",
   "metadata": {},
   "outputs": [
    {
     "name": "stdin",
     "output_type": "stream",
     "text": [
      "Angka 1: 2\n",
      "Angka 2: 2\n"
     ]
    },
    {
     "name": "stdout",
     "output_type": "stream",
     "text": [
      "4\n",
      "4\n",
      "4\n"
     ]
    }
   ],
   "source": [
    "import Aritmatika.math as math\n",
    "angka1 = int(input(\"Angka 1:\"))\n",
    "angka2 = int(input(\"Angka 2:\"))\n",
    "\n",
    "r1 = math.add(angka1,angka2)\n",
    "r2 = math.multiply(angka1,angka2)\n",
    "r3 = math.pow(angka1,angka2)\n",
    "\n",
    "print(r1)\n",
    "print(r2)\n",
    "print(r3)"
   ]
  },
  {
   "cell_type": "code",
   "execution_count": 108,
   "id": "62e3ac80-dace-4405-af23-ef4dd09bf584",
   "metadata": {},
   "outputs": [
    {
     "name": "stdin",
     "output_type": "stream",
     "text": [
      "Isikan Panjang: 12\n"
     ]
    },
    {
     "name": "stdout",
     "output_type": "stream",
     "text": [
      "Panjang dalam cm:12\n",
      "Panjang dalam meter:0.12\n"
     ]
    }
   ],
   "source": [
    "from Konversi.convert import cmToMeter as cToM\n",
    "\n",
    "angka = int(input(\"Isikan Panjang:\"))\n",
    "r1=cToM(angka)\n",
    "print(f\"Panjang dalam cm:{angka}\")\n",
    "print(f\"Panjang dalam meter:{r1}\")"
   ]
  },
  {
   "cell_type": "code",
   "execution_count": 2,
   "id": "b85d91b3-2dae-42af-b021-ff4a8a82f6c1",
   "metadata": {},
   "outputs": [
    {
     "name": "stdin",
     "output_type": "stream",
     "text": [
      "Isikan Panjang dalam (meter): 100\n",
      "Isikan Panjang dalam (centimeter): 21\n"
     ]
    },
    {
     "ename": "NameError",
     "evalue": "name 'centimeter' is not defined",
     "output_type": "error",
     "traceback": [
      "\u001b[1;31m---------------------------------------------------------------------------\u001b[0m",
      "\u001b[1;31mNameError\u001b[0m                                 Traceback (most recent call last)",
      "Cell \u001b[1;32mIn[2], line 7\u001b[0m\n\u001b[0;32m      4\u001b[0m cm \u001b[38;5;241m=\u001b[39m \u001b[38;5;28mint\u001b[39m(\u001b[38;5;28minput\u001b[39m(\u001b[38;5;124m\"\u001b[39m\u001b[38;5;124mIsikan Panjang dalam (centimeter):\u001b[39m\u001b[38;5;124m\"\u001b[39m))\n\u001b[0;32m      6\u001b[0m r1 \u001b[38;5;241m=\u001b[39m MeterToCm(meter)\n\u001b[1;32m----> 7\u001b[0m r2 \u001b[38;5;241m=\u001b[39m cmToMeter(centimeter)\n\u001b[0;32m      8\u001b[0m \u001b[38;5;28mprint\u001b[39m(\u001b[38;5;124mf\u001b[39m\u001b[38;5;124m\"\u001b[39m\u001b[38;5;124mPanjang dalam cm:\u001b[39m\u001b[38;5;132;01m{\u001b[39;00mr1\u001b[38;5;132;01m}\u001b[39;00m\u001b[38;5;124m\"\u001b[39m)\n\u001b[0;32m      9\u001b[0m \u001b[38;5;28mprint\u001b[39m(\u001b[38;5;124mf\u001b[39m\u001b[38;5;124m\"\u001b[39m\u001b[38;5;124mPanjang dalam meter:\u001b[39m\u001b[38;5;132;01m{\u001b[39;00mr2\u001b[38;5;132;01m}\u001b[39;00m\u001b[38;5;124m\"\u001b[39m)\n",
      "\u001b[1;31mNameError\u001b[0m: name 'centimeter' is not defined"
     ]
    }
   ],
   "source": [
    "from Konversi.convert import cmToMeter, MeterToCm\n",
    "\n",
    "meter = int(input(\"Isikan Panjang dalam (meter):\"))\n",
    "cm = int(input(\"Isikan Panjang dalam (centimeter):\"))\n",
    "\n",
    "r1 = MeterToCm(meter)\n",
    "r2 = cmToMeter(centimeter)\n",
    "print(f\"Panjang dalam cm:{r1}\")\n",
    "print(f\"Panjang dalam meter:{r2}\")"
   ]
  }
 ],
 "metadata": {
  "kernelspec": {
   "display_name": "Python 3 (ipykernel)",
   "language": "python",
   "name": "python3"
  },
  "language_info": {
   "codemirror_mode": {
    "name": "ipython",
    "version": 3
   },
   "file_extension": ".py",
   "mimetype": "text/x-python",
   "name": "python",
   "nbconvert_exporter": "python",
   "pygments_lexer": "ipython3",
   "version": "3.12.7"
  }
 },
 "nbformat": 4,
 "nbformat_minor": 5
}
