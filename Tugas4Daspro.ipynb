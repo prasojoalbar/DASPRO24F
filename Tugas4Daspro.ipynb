{
 "cells": [
  {
   "cell_type": "code",
   "execution_count": 7,
   "id": "5556e84a-e58c-4cd5-a031-aff5e100f8e8",
   "metadata": {},
   "outputs": [
    {
     "name": "stdin",
     "output_type": "stream",
     "text": [
      "budi memiliki berapa apel 12\n",
      "berapa teman budi 3\n",
      "tambah berapa apel budi saat setelah dibagi 2\n"
     ]
    },
    {
     "name": "stdout",
     "output_type": "stream",
     "text": [
      "Hasil bagi apel budi ke teman 12 / 3 = 3.0\n",
      "Hasil total apel budi saat ditambahkan 12 / 3 + 2 = 11.0\n"
     ]
    }
   ],
   "source": [
    "##operator aritmatik\n",
    "x=input(\"budi memiliki berapa apel\")\n",
    "y=input(\"berapa teman budi\")\n",
    "z=input(\"tambah berapa apel budi saat setelah dibagi\")\n",
    "x=int(x)\n",
    "y=int(y)\n",
    "z=int(z)\n",
    "\n",
    "\n",
    "\n",
    "print(\"Hasil bagi apel budi ke teman\",x,\"/\",y,\"=\",hasilBagi)\n",
    "print(\"Hasil total apel budi saat ditambahkan\",x,\"/\",y,\"+\",z,\"=\",hasilTotal)\n",
    "\n",
    "\n",
    "\n",
    "\n"
   ]
  },
  {
   "cell_type": "code",
   "execution_count": 18,
   "id": "c737f811-7ec0-4d41-b4d4-3d26b687d962",
   "metadata": {},
   "outputs": [
    {
     "name": "stdin",
     "output_type": "stream",
     "text": [
      "Berapa tinggi badan siti : 160\n",
      "berapa tinggi badan andi : 165\n"
     ]
    },
    {
     "name": "stdout",
     "output_type": "stream",
     "text": [
      "Andi yang lebih tinggi? 160 < 165 True\n",
      "siti yang lebih tinggi? 160 > 165 False\n"
     ]
    }
   ],
   "source": [
    "##operator perbandingan\n",
    "\n",
    "fVal =int(input(\"Berapa tinggi badan siti :\"))\n",
    "sVal= int(input(\"berapa tinggi badan andi :\"))\n",
    "\n",
    "print(\"Andi yang lebih tinggi?\",fVal,\"<\",sVal,fVal<sVal)\n",
    "print(\"siti yang lebih tinggi?\",fVal,\">\",sVal,fVal>sVal)\n",
    "\n",
    "\n"
   ]
  },
  {
   "cell_type": "code",
   "execution_count": 20,
   "id": "3762a89a-54c3-4a48-8a67-4a5e67225365",
   "metadata": {},
   "outputs": [
    {
     "name": "stdin",
     "output_type": "stream",
     "text": [
      "Apakah cuaca cerah? (True/False): true\n",
      "Apakah PR selesai? (True/False): false\n"
     ]
    },
    {
     "name": "stdout",
     "output_type": "stream",
     "text": [
      "Apakah Budi bisa bermain? : jangan\n"
     ]
    }
   ],
   "source": [
    "\n",
    "##operator logika\n",
    "Cuaca_cerah = input(\"Apakah cuaca cerah? (True/False):\")\n",
    "PR_selesai = input(\"Apakah PR selesai? (True/False):\") \n",
    "\n",
    "if Cuaca_cerah == \"True\" and PR_selesai == \"True\":\n",
    "    budibisabermain = \"boleh\"\n",
    "else:\n",
    "    budibisabermain = \"tidakboleh\"\n",
    "    \n",
    "print(\"Apakah Budi bisa bermain? :\",budibisabermain)"
   ]
  },
  {
   "cell_type": "code",
   "execution_count": 21,
   "id": "85f619c4-c7bd-4b90-8556-e425adc4877d",
   "metadata": {},
   "outputs": [
    {
     "name": "stdout",
     "output_type": "stream",
     "text": [
      "2\n",
      "7\n",
      "5\n"
     ]
    }
   ],
   "source": [
    "#operator bitwise\n",
    "num_1 = 6\n",
    "num_2 = 3\n",
    "\n",
    "print(num_1 & num_2)\n",
    "print(num_1 | num_2)\n",
    "print(num_1 ^ num_2)"
   ]
  },
  {
   "cell_type": "code",
   "execution_count": 22,
   "id": "db470d16-a35e-40ce-b014-e7d3fb332fea",
   "metadata": {},
   "outputs": [
    {
     "name": "stdout",
     "output_type": "stream",
     "text": [
      "Seorang siswa memiliki uang saldo sebanyak 50000\n",
      "Lalu mengisi uang saldo sebanyak Rp.20000, total uang saldp menjadi 70000\n",
      "Lalu membeli paket data swharga Rp.30000, total uang saldo menjadi 40000\n"
     ]
    }
   ],
   "source": [
    "#operator penugasann\n",
    "\n",
    "UangSaldo = 50000\n",
    "\n",
    "print(\"Seorang siswa memiliki uang saldo sebanyak\",UangSaldo)\n",
    "UangSaldo += 20000\n",
    "\n",
    "print(\"Lalu mengisi uang saldo sebanyak Rp.20000, total uang saldp menjadi\",UangSaldo)\n",
    "UangSaldo -= 30000\n",
    "\n",
    "print(\"Lalu membeli paket data swharga Rp.30000, total uang saldo menjadi\",UangSaldo)"
   ]
  },
  {
   "cell_type": "code",
   "execution_count": 24,
   "id": "ff8694fb-5254-46cc-a220-7328827bafb9",
   "metadata": {},
   "outputs": [
    {
     "name": "stdout",
     "output_type": "stream",
     "text": [
      "False\n",
      "True\n"
     ]
    }
   ],
   "source": [
    "#operator keanggotaan\n",
    "\n",
    "peserta_lomba = [\"Andi\", \"Budi\", \"Citra\", \"Dewi\" ]\n",
    "temukan = \"Eka\"\n",
    "print(temukan in peserta_lomba)\n",
    "\n",
    "kalimat = \"Saya suka belajar Python\"\n",
    "temukan = \"Python\"\n",
    "print(temukan in kalimat)"
   ]
  },
  {
   "cell_type": "code",
   "execution_count": 23,
   "id": "54d93660-d035-4f9b-93f5-9ad8bfee9c54",
   "metadata": {},
   "outputs": [
    {
     "name": "stdout",
     "output_type": "stream",
     "text": [
      "id variabel x adalah 140728107608632\n",
      "id variabel y adalah 140728107608632\n",
      "Apakah x sama dengan y? True\n",
      "Apakah kedua list tersebut mengacu ke objek yang sama? False\n"
     ]
    }
   ],
   "source": [
    "#operator identitas\n",
    "x = 5\n",
    "y = 5\n",
    "print(\"id variabel x adalah\",id(x))\n",
    "print(\"id variabel y adalah\",id(y))\n",
    "print(\"Apakah x sama dengan y?\",x is y)\n",
    "\n",
    "list_1 = [\"2\", \"3\", \"5\", \"7\", \"9\"]\n",
    "list_2 = [\"2\", \"3\", \"5\", \"7\", \"9\"]\n",
    "hasil = list_1 is list_2\n",
    "\n",
    "print(\"Apakah kedua list tersebut mengacu ke objek yang sama?\",hasil)"
   ]
  },
  {
   "cell_type": "code",
   "execution_count": 26,
   "id": "782c95d1-3e0f-4055-813f-9f2a523c151b",
   "metadata": {},
   "outputs": [
    {
     "name": "stdin",
     "output_type": "stream",
     "text": [
      "Nilai x: 100\n"
     ]
    },
    {
     "name": "stdout",
     "output_type": "stream",
     "text": [
      "Nilai x lebih kecil dari 100\n"
     ]
    }
   ],
   "source": [
    "##operator ternary\n",
    "x = int(input(\"Nilai x:\"))\n",
    "y = 100\n",
    "islebihtinggi = \"Nilai x lebih besar dari 100\" if x > y else \"Nilai x lebih kecil dari 100\"\n",
    "print(islebihtinggi)\n",
    "\n",
    "\n",
    "x = int(input(\"Nilai matkul:\"))\n",
    "y = 70\n",
    "islulus = \"Lulus\" if x > y else \"Tidak Lulus\"\n",
    "print(islulus)\n"
   ]
  }
 ],
 "metadata": {
  "kernelspec": {
   "display_name": "Python 3 (ipykernel)",
   "language": "python",
   "name": "python3"
  },
  "language_info": {
   "codemirror_mode": {
    "name": "ipython",
    "version": 3
   },
   "file_extension": ".py",
   "mimetype": "text/x-python",
   "name": "python",
   "nbconvert_exporter": "python",
   "pygments_lexer": "ipython3",
   "version": "3.12.7"
  }
 },
 "nbformat": 4,
 "nbformat_minor": 5
}
