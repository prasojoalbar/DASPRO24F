{
 "cells": [
  {
   "cell_type": "code",
   "execution_count": 60,
   "id": "ce63e1d9-ac90-4fd2-b0ad-482e60eb1994",
   "metadata": {},
   "outputs": [
    {
     "name": "stdout",
     "output_type": "stream",
     "text": [
      "\n",
      "    menu utama\n",
      "    1. Aritmatika\n",
      "    2. Konversi\n",
      "    3. UbahBilangan\n",
      "    4. Exit\n",
      "    \n"
     ]
    },
    {
     "name": "stdin",
     "output_type": "stream",
     "text": [
      " 2\n",
      "Masukkan Angka:  13\n"
     ]
    },
    {
     "name": "stdout",
     "output_type": "stream",
     "text": [
      "\n",
      "        Pilih Metode Convert\n",
      "        1. Convert CM to M\n",
      "        2 Convert M to CM\n",
      "        \n"
     ]
    },
    {
     "name": "stdin",
     "output_type": "stream",
     "text": [
      " 3\n"
     ]
    },
    {
     "name": "stdout",
     "output_type": "stream",
     "text": [
      "\n",
      "    menu utama\n",
      "    1. Aritmatika\n",
      "    2. Konversi\n",
      "    3. UbahBilangan\n",
      "    4. Exit\n",
      "    \n"
     ]
    },
    {
     "name": "stdin",
     "output_type": "stream",
     "text": [
      " 4\n"
     ]
    },
    {
     "name": "stdout",
     "output_type": "stream",
     "text": [
      "terimakasih!!!\n"
     ]
    }
   ],
   "source": [
    "import Aritmatika.aritmatika as aritmatika\n",
    "import Konversi.konversi as konversi\n",
    "import UbahBilangan.ubahbilangan as ubahbilangan\n",
    "\n",
    "while True:\n",
    "    print(\"\"\"\n",
    "    menu utama\n",
    "    1. Aritmatika\n",
    "    2. Konversi\n",
    "    3. UbahBilangan\n",
    "    4. Exit\n",
    "    \"\"\")\n",
    "    choice = int(input())\n",
    "\n",
    "    if choice ==1:\n",
    "        num1 = int(input(\"Masukan Angka Pertama:\"))\n",
    "        num2 = int(input(\"Masukan Angka Kedua:\"))\n",
    "        print(\"\"\"\n",
    "        Pilih Metod\n",
    "        1. Penjumlahan\n",
    "        2. Perpangkatan\n",
    "        3. Perkalian\n",
    "        \"\"\")\n",
    "        choice = int(input())\n",
    "        if choice == 1:\n",
    "            r1 = aritmatika.tambah(num1,num2)\n",
    "            print(f\"Penjumlahan {num1} dan {num2} adalah {r1}\")\n",
    "        elif choice == 2:\n",
    "            r1 = aritmatika.perpangkatan(num1,num2)\n",
    "            print(f\" Perpangkatan dari {num1} dan {num2} adalah {r1}\")\n",
    "        elif choice == 3:\n",
    "            r1 = aritmatika.perkalian (num1,num2)\n",
    "            print(f\" Hasil Perkalian dari {num1} dan {num2} adalah {r1}\")\n",
    "\n",
    "    elif choice == 2:\n",
    "        angka = int(input(\"Masukkan Angka: \"))\n",
    "        print(\"\"\"\n",
    "        Pilih Metode Convert\n",
    "        1. Convert CM to M\n",
    "        2 Convert M to CM\n",
    "        \"\"\")\n",
    "        choice = int(input())\n",
    "        if choice == 1:\n",
    "            r1 = konversi.CMToMeter(angka)\n",
    "            print(f\" CM ke M adalah {r1}\")\n",
    "        elif choice ==2 :\n",
    "            r1 = konversi.MeterToCm(angka)\n",
    "            print(f\" M ke Cm adalah {r1}\")\n",
    "\n",
    "    elif choice == 3:\n",
    "        desimal = int(input(\"Masukkan Angka:\"))\n",
    "        print(\"\"\"\n",
    "        Pilih Metode Ubah Bilangan\n",
    "        1. Desimal Ke Biner\n",
    "        2. Desimal ke Octal\n",
    "        3. Desimal ke Hexa\n",
    "        \"\"\")\n",
    "        choice = int(input())\n",
    "        if choice ==1:\n",
    "            r1 = ubahbilangan.DesimalToBiner(desimal)\n",
    "            print(f\" Desimal Ke Biner adalah {r1}\")\n",
    "        elif choice == 2:\n",
    "            r1 = ubahbilangan.DesimalToOktal(desimal)\n",
    "            print(f\" Desimal Ke Octal adalah {r1}\")\n",
    "        elif choice == 3:\n",
    "            r1 = ubahbilangan.DesimalToHexadesimal (desimal)\n",
    "            print(f\" Desimal ke Hexa adalah {r1}\")\n",
    "\n",
    "    elif choice == 4:\n",
    "        print(\"terimakasih!!!\")\n",
    "        break\n",
    "\n",
    "    else:\n",
    "        print(\"input tidak valid\")\n",
    "        break\n",
    "    "
   ]
  },
  {
   "cell_type": "code",
   "execution_count": null,
   "id": "cc110200-5535-49fd-8ca0-33b4b362f97d",
   "metadata": {},
   "outputs": [],
   "source": []
  }
 ],
 "metadata": {
  "kernelspec": {
   "display_name": "Python 3 (ipykernel)",
   "language": "python",
   "name": "python3"
  },
  "language_info": {
   "codemirror_mode": {
    "name": "ipython",
    "version": 3
   },
   "file_extension": ".py",
   "mimetype": "text/x-python",
   "name": "python",
   "nbconvert_exporter": "python",
   "pygments_lexer": "ipython3",
   "version": "3.12.7"
  }
 },
 "nbformat": 4,
 "nbformat_minor": 5
}
